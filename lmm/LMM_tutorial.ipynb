{
  "nbformat": 4,
  "nbformat_minor": 0,
  "metadata": {
    "colab": {
      "provenance": [],
      "collapsed_sections": [],
      "mount_file_id": "1O364fxa1EZZpKbBOpFmSxcxRJQOFzDQl",
      "authorship_tag": "ABX9TyMfGnSNc2VkF4bZA46f9zgX",
      "include_colab_link": true
    },
    "kernelspec": {
      "name": "python3",
      "display_name": "Python 3"
    },
    "language_info": {
      "name": "python"
    }
  },
  "cells": [
    {
      "cell_type": "markdown",
      "metadata": {
        "id": "view-in-github",
        "colab_type": "text"
      },
      "source": [
        "<a href=\"https://colab.research.google.com/github/GiocomoLab/tutorials/blob/main/lmm/LMM_tutorial.ipynb\" target=\"_parent\"><img src=\"https://colab.research.google.com/assets/colab-badge.svg\" alt=\"Open In Colab\"/></a>"
      ]
    },
    {
      "cell_type": "markdown",
      "source": [
        "# Mixed Models Python Tutorial\n",
        "### Alex Gonzalez\n",
        "### 2022/9/9"
      ],
      "metadata": {
        "id": "SCkmB3iVPLj-"
      }
    },
    {
      "cell_type": "markdown",
      "source": [
        "## Topics\n",
        "\n",
        "1. Linear Models\n",
        "2. Statistical Testing on LM\n",
        "3. Linear Mixed Models\n",
        "4. Statistical Testing on LMM\n",
        "\n",
        "## References:\n",
        "https://www-sciencedirect-com.stanford.idm.oclc.org/science/article/pii/S089662732100845X#app2\n",
        "\n",
        "https://link.springer.com/content/pdf/10.1007/978-3-662-63882-8.pdf\n",
        "\n",
        "## Data:\n",
        "https://www.ics.uci.edu/~zhaoxia/Data/BeyondTandANOVA/\n",
        "\n"
      ],
      "metadata": {
        "id": "Q1N54lQiPa9d"
      }
    },
    {
      "cell_type": "markdown",
      "source": [
        "### If you havent used colab before, you can mount a google drive.\n",
        "\n",
        "1. through left UI folder selection\n",
        "2. through the following command.\n",
        "\n",
        "```\n",
        "from google.colab import drive\n",
        "drive.mount('/content/drive')\n",
        "```\n"
      ],
      "metadata": {
        "id": "LBse52x2TEg0"
      }
    },
    {
      "cell_type": "markdown",
      "source": [
        "## Linear model:  $y =  x \\beta  + ϵ$\n",
        "1. independent variable: \n",
        "\n",
        "  $x → N × P \\ \\text{matrix}$\n",
        "\n",
        "  design matrix, exogeneous, predictors, etc.\n",
        "\n",
        "2. dependent variable: \n",
        "\n",
        "  $y → N × 1 \\ \\text{vector}$\n",
        "\n",
        "  usually a measurment, endogeneous variable, \n",
        "  \n",
        "3. betas: \n",
        "\n",
        "  $\\beta → P \\times 1 \\ \\text{vector}$\n",
        "\n",
        "  linear parameters, mapping from $x$ to $y$\n",
        "\n",
        "4. $ϵ → N \\times 1 \\ \\text{random vector}$  \n",
        "\n",
        "  error term, each entry usually assumed to be  i.i.d. $\\mathcal{N} (0, σ^2)$\n",
        "\n"
      ],
      "metadata": {
        "id": "skiDuf4sQEwI"
      }
    },
    {
      "cell_type": "markdown",
      "source": [
        "These are well known models from which t-tests, anovas and multiple other tests could be derived from. Let's see some examples."
      ],
      "metadata": {
        "id": "CVPcej5KQLyF"
      }
    },
    {
      "cell_type": "markdown",
      "source": [
        "## Python Imports"
      ],
      "metadata": {
        "id": "7fpGuwDUVHyz"
      }
    },
    {
      "cell_type": "code",
      "source": [
        "import numpy as np\n",
        "import pandas as pd\n",
        "\n",
        "from pathlib import Path\n",
        "import scipy.stats as stats\n",
        "import statsmodels.api as sm\n",
        "import statsmodels.formula.api as smf\n",
        "\n",
        "import matplotlib.pyplot as plt\n",
        "import seaborn as sns\n",
        "sns.set_style(\"whitegrid\")"
      ],
      "metadata": {
        "id": "txU2wjqeVGSo"
      },
      "execution_count": 1,
      "outputs": []
    },
    {
      "cell_type": "code",
      "source": [
        "# mount local drive (optional)\n",
        "if 0:\n",
        "  from google.colab import drive\n",
        "  drive.mount('/content/drive')"
      ],
      "metadata": {
        "id": "fcAWfy2EUiZI"
      },
      "execution_count": 2,
      "outputs": []
    },
    {
      "cell_type": "markdown",
      "source": [
        "### Get first data sets from the reference paper"
      ],
      "metadata": {
        "id": "JKV0uA89Vhgp"
      }
    },
    {
      "cell_type": "code",
      "source": [
        "# read from source links\n",
        "data1 = pd.read_csv(\"https://www.ics.uci.edu/~zhaoxia/Data/BeyondTandANOVA/Example1.txt\")\n",
        "data3 = pd.read_csv(\"https://www.ics.uci.edu/~zhaoxia/Data/BeyondTandANOVA/Example3.txt\")"
      ],
      "metadata": {
        "id": "Y7EVPQ-pVA21"
      },
      "execution_count": 3,
      "outputs": []
    },
    {
      "cell_type": "code",
      "source": [
        "# save to mounte drive (optional)\n",
        "if 0:\n",
        "  data1.to_csv(Path(\"/content/drive/My Drive/Teaching/Tutorials/lmm_example1.txt\"))\n",
        "  data3.to_csv(Path(\"/content/drive/My Drive/Teaching/Tutorials/lmm_example3.txt\"))"
      ],
      "metadata": {
        "id": "0Es-s4cde527"
      },
      "execution_count": 4,
      "outputs": []
    },
    {
      "cell_type": "code",
      "source": [
        "data1.head()"
      ],
      "metadata": {
        "colab": {
          "base_uri": "https://localhost:8080/",
          "height": 206
        },
        "id": "Rpinfa8LU9cU",
        "outputId": "786c67d0-b2ea-490f-dbd4-c89e494757f1"
      },
      "execution_count": 5,
      "outputs": [
        {
          "output_type": "execute_result",
          "data": {
            "text/plain": [
              "        res  treatment_idx  midx\n",
              "0  1.632684              1     1\n",
              "1  0.969839              1     1\n",
              "2  0.518493              1     1\n",
              "3  0.303127              1     1\n",
              "4  0.581527              1     1"
            ],
            "text/html": [
              "\n",
              "  <div id=\"df-df91c1f3-9a22-41b2-9da7-064589de2235\">\n",
              "    <div class=\"colab-df-container\">\n",
              "      <div>\n",
              "<style scoped>\n",
              "    .dataframe tbody tr th:only-of-type {\n",
              "        vertical-align: middle;\n",
              "    }\n",
              "\n",
              "    .dataframe tbody tr th {\n",
              "        vertical-align: top;\n",
              "    }\n",
              "\n",
              "    .dataframe thead th {\n",
              "        text-align: right;\n",
              "    }\n",
              "</style>\n",
              "<table border=\"1\" class=\"dataframe\">\n",
              "  <thead>\n",
              "    <tr style=\"text-align: right;\">\n",
              "      <th></th>\n",
              "      <th>res</th>\n",
              "      <th>treatment_idx</th>\n",
              "      <th>midx</th>\n",
              "    </tr>\n",
              "  </thead>\n",
              "  <tbody>\n",
              "    <tr>\n",
              "      <th>0</th>\n",
              "      <td>1.632684</td>\n",
              "      <td>1</td>\n",
              "      <td>1</td>\n",
              "    </tr>\n",
              "    <tr>\n",
              "      <th>1</th>\n",
              "      <td>0.969839</td>\n",
              "      <td>1</td>\n",
              "      <td>1</td>\n",
              "    </tr>\n",
              "    <tr>\n",
              "      <th>2</th>\n",
              "      <td>0.518493</td>\n",
              "      <td>1</td>\n",
              "      <td>1</td>\n",
              "    </tr>\n",
              "    <tr>\n",
              "      <th>3</th>\n",
              "      <td>0.303127</td>\n",
              "      <td>1</td>\n",
              "      <td>1</td>\n",
              "    </tr>\n",
              "    <tr>\n",
              "      <th>4</th>\n",
              "      <td>0.581527</td>\n",
              "      <td>1</td>\n",
              "      <td>1</td>\n",
              "    </tr>\n",
              "  </tbody>\n",
              "</table>\n",
              "</div>\n",
              "      <button class=\"colab-df-convert\" onclick=\"convertToInteractive('df-df91c1f3-9a22-41b2-9da7-064589de2235')\"\n",
              "              title=\"Convert this dataframe to an interactive table.\"\n",
              "              style=\"display:none;\">\n",
              "        \n",
              "  <svg xmlns=\"http://www.w3.org/2000/svg\" height=\"24px\"viewBox=\"0 0 24 24\"\n",
              "       width=\"24px\">\n",
              "    <path d=\"M0 0h24v24H0V0z\" fill=\"none\"/>\n",
              "    <path d=\"M18.56 5.44l.94 2.06.94-2.06 2.06-.94-2.06-.94-.94-2.06-.94 2.06-2.06.94zm-11 1L8.5 8.5l.94-2.06 2.06-.94-2.06-.94L8.5 2.5l-.94 2.06-2.06.94zm10 10l.94 2.06.94-2.06 2.06-.94-2.06-.94-.94-2.06-.94 2.06-2.06.94z\"/><path d=\"M17.41 7.96l-1.37-1.37c-.4-.4-.92-.59-1.43-.59-.52 0-1.04.2-1.43.59L10.3 9.45l-7.72 7.72c-.78.78-.78 2.05 0 2.83L4 21.41c.39.39.9.59 1.41.59.51 0 1.02-.2 1.41-.59l7.78-7.78 2.81-2.81c.8-.78.8-2.07 0-2.86zM5.41 20L4 18.59l7.72-7.72 1.47 1.35L5.41 20z\"/>\n",
              "  </svg>\n",
              "      </button>\n",
              "      \n",
              "  <style>\n",
              "    .colab-df-container {\n",
              "      display:flex;\n",
              "      flex-wrap:wrap;\n",
              "      gap: 12px;\n",
              "    }\n",
              "\n",
              "    .colab-df-convert {\n",
              "      background-color: #E8F0FE;\n",
              "      border: none;\n",
              "      border-radius: 50%;\n",
              "      cursor: pointer;\n",
              "      display: none;\n",
              "      fill: #1967D2;\n",
              "      height: 32px;\n",
              "      padding: 0 0 0 0;\n",
              "      width: 32px;\n",
              "    }\n",
              "\n",
              "    .colab-df-convert:hover {\n",
              "      background-color: #E2EBFA;\n",
              "      box-shadow: 0px 1px 2px rgba(60, 64, 67, 0.3), 0px 1px 3px 1px rgba(60, 64, 67, 0.15);\n",
              "      fill: #174EA6;\n",
              "    }\n",
              "\n",
              "    [theme=dark] .colab-df-convert {\n",
              "      background-color: #3B4455;\n",
              "      fill: #D2E3FC;\n",
              "    }\n",
              "\n",
              "    [theme=dark] .colab-df-convert:hover {\n",
              "      background-color: #434B5C;\n",
              "      box-shadow: 0px 1px 3px 1px rgba(0, 0, 0, 0.15);\n",
              "      filter: drop-shadow(0px 1px 2px rgba(0, 0, 0, 0.3));\n",
              "      fill: #FFFFFF;\n",
              "    }\n",
              "  </style>\n",
              "\n",
              "      <script>\n",
              "        const buttonEl =\n",
              "          document.querySelector('#df-df91c1f3-9a22-41b2-9da7-064589de2235 button.colab-df-convert');\n",
              "        buttonEl.style.display =\n",
              "          google.colab.kernel.accessAllowed ? 'block' : 'none';\n",
              "\n",
              "        async function convertToInteractive(key) {\n",
              "          const element = document.querySelector('#df-df91c1f3-9a22-41b2-9da7-064589de2235');\n",
              "          const dataTable =\n",
              "            await google.colab.kernel.invokeFunction('convertToInteractive',\n",
              "                                                     [key], {});\n",
              "          if (!dataTable) return;\n",
              "\n",
              "          const docLinkHtml = 'Like what you see? Visit the ' +\n",
              "            '<a target=\"_blank\" href=https://colab.research.google.com/notebooks/data_table.ipynb>data table notebook</a>'\n",
              "            + ' to learn more about interactive tables.';\n",
              "          element.innerHTML = '';\n",
              "          dataTable['output_type'] = 'display_data';\n",
              "          await google.colab.output.renderOutput(dataTable, element);\n",
              "          const docLink = document.createElement('div');\n",
              "          docLink.innerHTML = docLinkHtml;\n",
              "          element.appendChild(docLink);\n",
              "        }\n",
              "      </script>\n",
              "    </div>\n",
              "  </div>\n",
              "  "
            ]
          },
          "metadata": {},
          "execution_count": 5
        }
      ]
    },
    {
      "cell_type": "code",
      "execution_count": 6,
      "metadata": {
        "colab": {
          "base_uri": "https://localhost:8080/",
          "height": 296
        },
        "id": "KokcSZv2PIcy",
        "outputId": "55b82e5a-3e0b-4859-cad6-285224e3bfc6"
      },
      "outputs": [
        {
          "output_type": "execute_result",
          "data": {
            "text/plain": [
              "<matplotlib.axes._subplots.AxesSubplot at 0x7f78a173b290>"
            ]
          },
          "metadata": {},
          "execution_count": 6
        },
        {
          "output_type": "display_data",
          "data": {
            "text/plain": [
              "<Figure size 432x288 with 1 Axes>"
            ],
            "image/png": "[encoded data removed]"
          },
          "metadata": {}
        }
      ],
      "source": [
        "sns.stripplot(x='midx', y='res', hue='treatment_idx', data=data1)"
      ]
    },
    {
      "cell_type": "markdown",
      "source": [
        "## Linear model fit and traditional tests"
      ],
      "metadata": {
        "id": "qqH_9N5bZSUn"
      }
    },
    {
      "cell_type": "markdown",
      "source": [
        "In here we want to replicate the results of table 2 of the neuron paper. In the table they get a p value for each day. The model in this case would look like:\n",
        "\n",
        "\n",
        "  $y_{i,j} = \\beta_0 + \\beta_1 x_{i,0} + ... + \\beta_4 x_{i,4} + ϵ_i$\n",
        "\n",
        "Where $i$ is the nueron idx, and $j$ correspond to the day/ treatment_idx. \n",
        "\n",
        "In matrix form:\n",
        "\n",
        "$Y = X β$\n",
        "\n",
        "Consequenty, the estimated function is:\n",
        "\n",
        "$\\hat{y}_{i,j} = \\hat{\\beta}_0 + \\hat{\\beta}_1 x_{i,0} + ... + \\hat{\\beta}_4 x_{i,4}$\n",
        "\n",
        "\n",
        "Which can be used as the estimator $\\hat{E}(y|x_1, ..., x_k)$.\n",
        "\n",
        "----------------------\n",
        "\n",
        "For this model we will use the statsmodels package framework. \n",
        "\n",
        "https://www.statsmodels.org/stable/index.html\n",
        "\n",
        "smf.ols refers to ordinary least squares regression, note the formula notation. if using sm.OLS you would be directly feeding in the X and Y. "
      ],
      "metadata": {
        "id": "KgEIx-mGbGQl"
      }
    },
    {
      "cell_type": "code",
      "source": [
        "m = smf.ols('res ~ 1 + treatment_idx', data=data1).fit()\n",
        "m.summary()"
      ],
      "metadata": {
        "id": "EzV_25fiZMKM",
        "outputId": "d3b2dbc0-89ac-4c5f-db1c-99330d92b39d",
        "colab": {
          "base_uri": "https://localhost:8080/",
          "height": 452
        }
      },
      "execution_count": 7,
      "outputs": [
        {
          "output_type": "execute_result",
          "data": {
            "text/plain": [
              "<class 'statsmodels.iolib.summary.Summary'>\n",
              "\"\"\"\n",
              "                            OLS Regression Results                            \n",
              "==============================================================================\n",
              "Dep. Variable:                    res   R-squared:                       0.036\n",
              "Model:                            OLS   Adj. R-squared:                  0.035\n",
              "Method:                 Least Squares   F-statistic:                     44.37\n",
              "Date:                Fri, 09 Sep 2022   Prob (F-statistic):           4.14e-11\n",
              "Time:                        18:41:45   Log-Likelihood:                -1526.9\n",
              "No. Observations:                1200   AIC:                             3058.\n",
              "Df Residuals:                    1198   BIC:                             3068.\n",
              "Df Model:                           1                                         \n",
              "Covariance Type:            nonrobust                                         \n",
              "=================================================================================\n",
              "                    coef    std err          t      P>|t|      [0.025      0.975]\n",
              "---------------------------------------------------------------------------------\n",
              "Intercept         1.5631      0.051     30.779      0.000       1.463       1.663\n",
              "treatment_idx    -0.1099      0.016     -6.661      0.000      -0.142      -0.078\n",
              "==============================================================================\n",
              "Omnibus:                      287.794   Durbin-Watson:                   0.779\n",
              "Prob(Omnibus):                  0.000   Jarque-Bera (JB):              719.636\n",
              "Skew:                           1.268   Prob(JB):                    5.41e-157\n",
              "Kurtosis:                       5.822   Cond. No.                         6.78\n",
              "==============================================================================\n",
              "\n",
              "Notes:\n",
              "[1] Standard Errors assume that the covariance matrix of the errors is correctly specified.\n",
              "\"\"\""
            ],
            "text/html": [
              "<table class=\"simpletable\">\n",
              "<caption>OLS Regression Results</caption>\n",
              "<tr>\n",
              "  <th>Dep. Variable:</th>           <td>res</td>       <th>  R-squared:         </th> <td>   0.036</td>\n",
              "</tr>\n",
              "<tr>\n",
              "  <th>Model:</th>                   <td>OLS</td>       <th>  Adj. R-squared:    </th> <td>   0.035</td>\n",
              "</tr>\n",
              "<tr>\n",
              "  <th>Method:</th>             <td>Least Squares</td>  <th>  F-statistic:       </th> <td>   44.37</td>\n",
              "</tr>\n",
              "<tr>\n",
              "  <th>Date:</th>             <td>Fri, 09 Sep 2022</td> <th>  Prob (F-statistic):</th> <td>4.14e-11</td>\n",
              "</tr>\n",
              "<tr>\n",
              "  <th>Time:</th>                 <td>18:41:45</td>     <th>  Log-Likelihood:    </th> <td> -1526.9</td>\n",
              "</tr>\n",
              "<tr>\n",
              "  <th>No. Observations:</th>      <td>  1200</td>      <th>  AIC:               </th> <td>   3058.</td>\n",
              "</tr>\n",
              "<tr>\n",
              "  <th>Df Residuals:</th>          <td>  1198</td>      <th>  BIC:               </th> <td>   3068.</td>\n",
              "</tr>\n",
              "<tr>\n",
              "  <th>Df Model:</th>              <td>     1</td>      <th>                     </th>     <td> </td>   \n",
              "</tr>\n",
              "<tr>\n",
              "  <th>Covariance Type:</th>      <td>nonrobust</td>    <th>                     </th>     <td> </td>   \n",
              "</tr>\n",
              "</table>\n",
              "<table class=\"simpletable\">\n",
              "<tr>\n",
              "        <td></td>           <th>coef</th>     <th>std err</th>      <th>t</th>      <th>P>|t|</th>  <th>[0.025</th>    <th>0.975]</th>  \n",
              "</tr>\n",
              "<tr>\n",
              "  <th>Intercept</th>     <td>    1.5631</td> <td>    0.051</td> <td>   30.779</td> <td> 0.000</td> <td>    1.463</td> <td>    1.663</td>\n",
              "</tr>\n",
              "<tr>\n",
              "  <th>treatment_idx</th> <td>   -0.1099</td> <td>    0.016</td> <td>   -6.661</td> <td> 0.000</td> <td>   -0.142</td> <td>   -0.078</td>\n",
              "</tr>\n",
              "</table>\n",
              "<table class=\"simpletable\">\n",
              "<tr>\n",
              "  <th>Omnibus:</th>       <td>287.794</td> <th>  Durbin-Watson:     </th> <td>   0.779</td> \n",
              "</tr>\n",
              "<tr>\n",
              "  <th>Prob(Omnibus):</th> <td> 0.000</td>  <th>  Jarque-Bera (JB):  </th> <td> 719.636</td> \n",
              "</tr>\n",
              "<tr>\n",
              "  <th>Skew:</th>          <td> 1.268</td>  <th>  Prob(JB):          </th> <td>5.41e-157</td>\n",
              "</tr>\n",
              "<tr>\n",
              "  <th>Kurtosis:</th>      <td> 5.822</td>  <th>  Cond. No.          </th> <td>    6.78</td> \n",
              "</tr>\n",
              "</table><br/><br/>Notes:<br/>[1] Standard Errors assume that the covariance matrix of the errors is correctly specified."
            ]
          },
          "metadata": {},
          "execution_count": 7
        }
      ]
    },
    {
      "cell_type": "markdown",
      "source": [
        "what went wrong? why didn't we get an estimate for each day? we got 2 estimates, one for intercept and one for treatment_idx.\n",
        "\n",
        "Reason 1. Treatment idx is a continous variable, not categorical. As such, it is being fit as slope such that across days the response variable will vary as a function of the value of the treatment_idx (0-4). \n",
        "\n",
        "Reason 2. It is one predictor, but when we formulated the model there were 5 predictors. \n",
        "\n",
        "Let's re-fit by first changing how treatment_idx is parsed (see the patsy package for more details).\n",
        "\n",
        "https://patsy.readthedocs.io/en/latest/overview.html\n"
      ],
      "metadata": {
        "id": "z3R6fThNbBVV"
      }
    },
    {
      "cell_type": "code",
      "source": [
        "m = smf.ols('res ~ 1 + C(treatment_idx)', data=data1).fit()\n",
        "m.summary()"
      ],
      "metadata": {
        "id": "nSwGH57QWQ9v",
        "outputId": "b419d97c-7ef1-4f26-aa77-814f6b236bf0",
        "colab": {
          "base_uri": "https://localhost:8080/",
          "height": 516
        }
      },
      "execution_count": 8,
      "outputs": [
        {
          "output_type": "execute_result",
          "data": {
            "text/plain": [
              "<class 'statsmodels.iolib.summary.Summary'>\n",
              "\"\"\"\n",
              "                            OLS Regression Results                            \n",
              "==============================================================================\n",
              "Dep. Variable:                    res   R-squared:                       0.266\n",
              "Model:                            OLS   Adj. R-squared:                  0.263\n",
              "Method:                 Least Squares   F-statistic:                     108.1\n",
              "Date:                Fri, 09 Sep 2022   Prob (F-statistic):           1.17e-78\n",
              "Time:                        18:41:46   Log-Likelihood:                -1363.4\n",
              "No. Observations:                1200   AIC:                             2737.\n",
              "Df Residuals:                    1195   BIC:                             2762.\n",
              "Df Model:                           4                                         \n",
              "Covariance Type:            nonrobust                                         \n",
              "=========================================================================================\n",
              "                            coef    std err          t      P>|t|      [0.025      0.975]\n",
              "-----------------------------------------------------------------------------------------\n",
              "Intercept                 1.0262      0.040     25.672      0.000       0.948       1.105\n",
              "C(treatment_idx)[T.2]     0.7829      0.059     13.340      0.000       0.668       0.898\n",
              "C(treatment_idx)[T.3]     0.8135      0.076     10.774      0.000       0.665       0.962\n",
              "C(treatment_idx)[T.4]     0.1606      0.073      2.185      0.029       0.016       0.305\n",
              "C(treatment_idx)[T.5]    -0.3605      0.063     -5.753      0.000      -0.483      -0.238\n",
              "==============================================================================\n",
              "Omnibus:                      297.522   Durbin-Watson:                   1.024\n",
              "Prob(Omnibus):                  0.000   Jarque-Bera (JB):              812.801\n",
              "Skew:                           1.272   Prob(JB):                    3.18e-177\n",
              "Kurtosis:                       6.128   Cond. No.                         5.07\n",
              "==============================================================================\n",
              "\n",
              "Notes:\n",
              "[1] Standard Errors assume that the covariance matrix of the errors is correctly specified.\n",
              "\"\"\""
            ],
            "text/html": [
              "<table class=\"simpletable\">\n",
              "<caption>OLS Regression Results</caption>\n",
              "<tr>\n",
              "  <th>Dep. Variable:</th>           <td>res</td>       <th>  R-squared:         </th> <td>   0.266</td>\n",
              "</tr>\n",
              "<tr>\n",
              "  <th>Model:</th>                   <td>OLS</td>       <th>  Adj. R-squared:    </th> <td>   0.263</td>\n",
              "</tr>\n",
              "<tr>\n",
              "  <th>Method:</th>             <td>Least Squares</td>  <th>  F-statistic:       </th> <td>   108.1</td>\n",
              "</tr>\n",
              "<tr>\n",
              "  <th>Date:</th>             <td>Fri, 09 Sep 2022</td> <th>  Prob (F-statistic):</th> <td>1.17e-78</td>\n",
              "</tr>\n",
              "<tr>\n",
              "  <th>Time:</th>                 <td>18:41:46</td>     <th>  Log-Likelihood:    </th> <td> -1363.4</td>\n",
              "</tr>\n",
              "<tr>\n",
              "  <th>No. Observations:</th>      <td>  1200</td>      <th>  AIC:               </th> <td>   2737.</td>\n",
              "</tr>\n",
              "<tr>\n",
              "  <th>Df Residuals:</th>          <td>  1195</td>      <th>  BIC:               </th> <td>   2762.</td>\n",
              "</tr>\n",
              "<tr>\n",
              "  <th>Df Model:</th>              <td>     4</td>      <th>                     </th>     <td> </td>   \n",
              "</tr>\n",
              "<tr>\n",
              "  <th>Covariance Type:</th>      <td>nonrobust</td>    <th>                     </th>     <td> </td>   \n",
              "</tr>\n",
              "</table>\n",
              "<table class=\"simpletable\">\n",
              "<tr>\n",
              "            <td></td>               <th>coef</th>     <th>std err</th>      <th>t</th>      <th>P>|t|</th>  <th>[0.025</th>    <th>0.975]</th>  \n",
              "</tr>\n",
              "<tr>\n",
              "  <th>Intercept</th>             <td>    1.0262</td> <td>    0.040</td> <td>   25.672</td> <td> 0.000</td> <td>    0.948</td> <td>    1.105</td>\n",
              "</tr>\n",
              "<tr>\n",
              "  <th>C(treatment_idx)[T.2]</th> <td>    0.7829</td> <td>    0.059</td> <td>   13.340</td> <td> 0.000</td> <td>    0.668</td> <td>    0.898</td>\n",
              "</tr>\n",
              "<tr>\n",
              "  <th>C(treatment_idx)[T.3]</th> <td>    0.8135</td> <td>    0.076</td> <td>   10.774</td> <td> 0.000</td> <td>    0.665</td> <td>    0.962</td>\n",
              "</tr>\n",
              "<tr>\n",
              "  <th>C(treatment_idx)[T.4]</th> <td>    0.1606</td> <td>    0.073</td> <td>    2.185</td> <td> 0.029</td> <td>    0.016</td> <td>    0.305</td>\n",
              "</tr>\n",
              "<tr>\n",
              "  <th>C(treatment_idx)[T.5]</th> <td>   -0.3605</td> <td>    0.063</td> <td>   -5.753</td> <td> 0.000</td> <td>   -0.483</td> <td>   -0.238</td>\n",
              "</tr>\n",
              "</table>\n",
              "<table class=\"simpletable\">\n",
              "<tr>\n",
              "  <th>Omnibus:</th>       <td>297.522</td> <th>  Durbin-Watson:     </th> <td>   1.024</td> \n",
              "</tr>\n",
              "<tr>\n",
              "  <th>Prob(Omnibus):</th> <td> 0.000</td>  <th>  Jarque-Bera (JB):  </th> <td> 812.801</td> \n",
              "</tr>\n",
              "<tr>\n",
              "  <th>Skew:</th>          <td> 1.272</td>  <th>  Prob(JB):          </th> <td>3.18e-177</td>\n",
              "</tr>\n",
              "<tr>\n",
              "  <th>Kurtosis:</th>      <td> 6.128</td>  <th>  Cond. No.          </th> <td>    5.07</td> \n",
              "</tr>\n",
              "</table><br/><br/>Notes:<br/>[1] Standard Errors assume that the covariance matrix of the errors is correctly specified."
            ]
          },
          "metadata": {},
          "execution_count": 8
        }
      ]
    },
    {
      "cell_type": "code",
      "source": [
        "print(m.params)\n",
        "print(m.pvalues)"
      ],
      "metadata": {
        "id": "YV0q_k0geJtl",
        "outputId": "081b22e4-b9b6-4c74-a262-ab6761a0d4aa",
        "colab": {
          "base_uri": "https://localhost:8080/"
        }
      },
      "execution_count": 9,
      "outputs": [
        {
          "output_type": "stream",
          "name": "stdout",
          "text": [
            "Intercept                1.026191\n",
            "C(treatment_idx)[T.2]    0.782856\n",
            "C(treatment_idx)[T.3]    0.813529\n",
            "C(treatment_idx)[T.4]    0.160579\n",
            "C(treatment_idx)[T.5]   -0.360473\n",
            "dtype: float64\n",
            "Intercept                4.064778e-116\n",
            "C(treatment_idx)[T.2]     6.040147e-38\n",
            "C(treatment_idx)[T.3]     6.760583e-26\n",
            "C(treatment_idx)[T.4]     2.907634e-02\n",
            "C(treatment_idx)[T.5]     1.112796e-08\n",
            "dtype: float64\n"
          ]
        }
      ]
    },
    {
      "cell_type": "markdown",
      "source": [
        "Note how the overall fit is much improved by changing how the model used the treatment_idx variable. All the model fits now match what was on the paper. But, what is each parameter and corresponding p value telling us?"
      ],
      "metadata": {
        "id": "sFxNOR_Uel2v"
      }
    },
    {
      "cell_type": "code",
      "source": [
        "base = data1.loc[data1.treatment_idx==1, 'res']\n",
        "print(base.mean(), stats.ttest_1samp(base, 0))\n",
        "for ii in np.arange(2,6):\n",
        "  test_dat = data1.loc[data1.treatment_idx==ii, 'res']\n",
        "  print(test_dat.mean()-base.mean(), stats.ttest_ind(test_dat, base))"
      ],
      "metadata": {
        "id": "8pMAsZabeR3l",
        "colab": {
          "base_uri": "https://localhost:8080/"
        },
        "outputId": "8bc2cadc-e876-451f-eb3f-48fcda3f3e6f"
      },
      "execution_count": 10,
      "outputs": [
        {
          "output_type": "stream",
          "name": "stdout",
          "text": [
            "1.0261907442577032 Ttest_1sampResult(statistic=29.740899200645238, pvalue=1.5683104289809018e-98)\n",
            "0.7828563628620377 Ttest_indResult(statistic=12.572322153552877, pvalue=1.1410135390093402e-32)\n",
            "0.813528703224311 Ttest_indResult(statistic=11.564780347735724, pvalue=1.5334558892868301e-27)\n",
            "0.16057902307563032 Ttest_indResult(statistic=2.38642072947878, pvalue=0.01738056043601394)\n",
            "-0.36047316621688674 Ttest_indResult(statistic=-7.126043819899659, pvalue=2.9745769579600704e-12)\n"
          ]
        }
      ]
    },
    {
      "cell_type": "markdown",
      "source": [
        "So, after fitting a model with OLS, we obtain coefficients that are the mean of the control group (treatment_idx==1) with the rest being the difference between another treatment and the control. The corresponding p-values are equivalent to a two-sample ttest between the test group and the control group, with the difference in actual values between the ttest and the model coming from the estimation of variance. "
      ],
      "metadata": {
        "id": "PgUdxBP8izd6"
      }
    },
    {
      "cell_type": "markdown",
      "source": [
        "What if I don't want the difference in means as my parameters estimates, or if the control group is not the first?"
      ],
      "metadata": {
        "id": "gyluhcWAj1oL"
      }
    },
    {
      "cell_type": "code",
      "source": [
        "m = smf.ols('res ~ -1 + C(treatment_idx)', data=data1).fit()\n",
        "m.summary()"
      ],
      "metadata": {
        "colab": {
          "base_uri": "https://localhost:8080/",
          "height": 516
        },
        "id": "tMkqQyqCj0zb",
        "outputId": "04886752-7cd0-46ab-b73b-e5236facec2c"
      },
      "execution_count": 11,
      "outputs": [
        {
          "output_type": "execute_result",
          "data": {
            "text/plain": [
              "<class 'statsmodels.iolib.summary.Summary'>\n",
              "\"\"\"\n",
              "                            OLS Regression Results                            \n",
              "==============================================================================\n",
              "Dep. Variable:                    res   R-squared:                       0.266\n",
              "Model:                            OLS   Adj. R-squared:                  0.263\n",
              "Method:                 Least Squares   F-statistic:                     108.1\n",
              "Date:                Fri, 09 Sep 2022   Prob (F-statistic):           1.17e-78\n",
              "Time:                        18:41:46   Log-Likelihood:                -1363.4\n",
              "No. Observations:                1200   AIC:                             2737.\n",
              "Df Residuals:                    1195   BIC:                             2762.\n",
              "Df Model:                           4                                         \n",
              "Covariance Type:            nonrobust                                         \n",
              "=======================================================================================\n",
              "                          coef    std err          t      P>|t|      [0.025      0.975]\n",
              "---------------------------------------------------------------------------------------\n",
              "C(treatment_idx)[1]     1.0262      0.040     25.672      0.000       0.948       1.105\n",
              "C(treatment_idx)[2]     1.8090      0.043     42.105      0.000       1.725       1.893\n",
              "C(treatment_idx)[3]     1.8397      0.064     28.719      0.000       1.714       1.965\n",
              "C(treatment_idx)[4]     1.1868      0.062     19.245      0.000       1.066       1.308\n",
              "C(treatment_idx)[5]     0.6657      0.048     13.797      0.000       0.571       0.760\n",
              "==============================================================================\n",
              "Omnibus:                      297.522   Durbin-Watson:                   1.024\n",
              "Prob(Omnibus):                  0.000   Jarque-Bera (JB):              812.801\n",
              "Skew:                           1.272   Prob(JB):                    3.18e-177\n",
              "Kurtosis:                       6.128   Cond. No.                         1.60\n",
              "==============================================================================\n",
              "\n",
              "Notes:\n",
              "[1] Standard Errors assume that the covariance matrix of the errors is correctly specified.\n",
              "\"\"\""
            ],
            "text/html": [
              "<table class=\"simpletable\">\n",
              "<caption>OLS Regression Results</caption>\n",
              "<tr>\n",
              "  <th>Dep. Variable:</th>           <td>res</td>       <th>  R-squared:         </th> <td>   0.266</td>\n",
              "</tr>\n",
              "<tr>\n",
              "  <th>Model:</th>                   <td>OLS</td>       <th>  Adj. R-squared:    </th> <td>   0.263</td>\n",
              "</tr>\n",
              "<tr>\n",
              "  <th>Method:</th>             <td>Least Squares</td>  <th>  F-statistic:       </th> <td>   108.1</td>\n",
              "</tr>\n",
              "<tr>\n",
              "  <th>Date:</th>             <td>Fri, 09 Sep 2022</td> <th>  Prob (F-statistic):</th> <td>1.17e-78</td>\n",
              "</tr>\n",
              "<tr>\n",
              "  <th>Time:</th>                 <td>18:41:46</td>     <th>  Log-Likelihood:    </th> <td> -1363.4</td>\n",
              "</tr>\n",
              "<tr>\n",
              "  <th>No. Observations:</th>      <td>  1200</td>      <th>  AIC:               </th> <td>   2737.</td>\n",
              "</tr>\n",
              "<tr>\n",
              "  <th>Df Residuals:</th>          <td>  1195</td>      <th>  BIC:               </th> <td>   2762.</td>\n",
              "</tr>\n",
              "<tr>\n",
              "  <th>Df Model:</th>              <td>     4</td>      <th>                     </th>     <td> </td>   \n",
              "</tr>\n",
              "<tr>\n",
              "  <th>Covariance Type:</th>      <td>nonrobust</td>    <th>                     </th>     <td> </td>   \n",
              "</tr>\n",
              "</table>\n",
              "<table class=\"simpletable\">\n",
              "<tr>\n",
              "           <td></td>              <th>coef</th>     <th>std err</th>      <th>t</th>      <th>P>|t|</th>  <th>[0.025</th>    <th>0.975]</th>  \n",
              "</tr>\n",
              "<tr>\n",
              "  <th>C(treatment_idx)[1]</th> <td>    1.0262</td> <td>    0.040</td> <td>   25.672</td> <td> 0.000</td> <td>    0.948</td> <td>    1.105</td>\n",
              "</tr>\n",
              "<tr>\n",
              "  <th>C(treatment_idx)[2]</th> <td>    1.8090</td> <td>    0.043</td> <td>   42.105</td> <td> 0.000</td> <td>    1.725</td> <td>    1.893</td>\n",
              "</tr>\n",
              "<tr>\n",
              "  <th>C(treatment_idx)[3]</th> <td>    1.8397</td> <td>    0.064</td> <td>   28.719</td> <td> 0.000</td> <td>    1.714</td> <td>    1.965</td>\n",
              "</tr>\n",
              "<tr>\n",
              "  <th>C(treatment_idx)[4]</th> <td>    1.1868</td> <td>    0.062</td> <td>   19.245</td> <td> 0.000</td> <td>    1.066</td> <td>    1.308</td>\n",
              "</tr>\n",
              "<tr>\n",
              "  <th>C(treatment_idx)[5]</th> <td>    0.6657</td> <td>    0.048</td> <td>   13.797</td> <td> 0.000</td> <td>    0.571</td> <td>    0.760</td>\n",
              "</tr>\n",
              "</table>\n",
              "<table class=\"simpletable\">\n",
              "<tr>\n",
              "  <th>Omnibus:</th>       <td>297.522</td> <th>  Durbin-Watson:     </th> <td>   1.024</td> \n",
              "</tr>\n",
              "<tr>\n",
              "  <th>Prob(Omnibus):</th> <td> 0.000</td>  <th>  Jarque-Bera (JB):  </th> <td> 812.801</td> \n",
              "</tr>\n",
              "<tr>\n",
              "  <th>Skew:</th>          <td> 1.272</td>  <th>  Prob(JB):          </th> <td>3.18e-177</td>\n",
              "</tr>\n",
              "<tr>\n",
              "  <th>Kurtosis:</th>      <td> 6.128</td>  <th>  Cond. No.          </th> <td>    1.60</td> \n",
              "</tr>\n",
              "</table><br/><br/>Notes:<br/>[1] Standard Errors assume that the covariance matrix of the errors is correctly specified."
            ]
          },
          "metadata": {},
          "execution_count": 11
        }
      ]
    },
    {
      "cell_type": "code",
      "source": [
        "base = data1.loc[data1.treatment_idx==1, 'res']\n",
        "print(base.mean(), stats.ttest_1samp(base, 0))\n",
        "for ii in np.arange(2,6):\n",
        "  test_dat = data1.loc[data1.treatment_idx==ii, 'res']\n",
        "  print(test_dat.mean(), stats.ttest_1samp(test_dat, 0))"
      ],
      "metadata": {
        "colab": {
          "base_uri": "https://localhost:8080/"
        },
        "id": "KwPsTYUcg_xq",
        "outputId": "3046970d-a222-48b3-8edf-23c834f666c9"
      },
      "execution_count": 12,
      "outputs": [
        {
          "output_type": "stream",
          "name": "stdout",
          "text": [
            "1.0261907442577032 Ttest_1sampResult(statistic=29.740899200645238, pvalue=1.5683104289809018e-98)\n",
            "1.809047107119741 Ttest_1sampResult(statistic=33.64638258254568, pvalue=3.5851002369498526e-105)\n",
            "1.8397194474820142 Ttest_1sampResult(statistic=26.384861112272816, pvalue=9.021732722432135e-56)\n",
            "1.1867697673333335 Ttest_1sampResult(statistic=18.681525052179126, pvalue=7.070208017507223e-41)\n",
            "0.6657175780408164 Ttest_1sampResult(statistic=19.21455117830409, pvalue=9.794830499705795e-51)\n"
          ]
        }
      ]
    },
    {
      "cell_type": "markdown",
      "source": [
        "In this case, the parameters estimates are just the means for each group as that is the least squares solution. The equivalent test is a simple 1 sample ttest of the parameter against zero.\n",
        "\n",
        "There's no fundamental difference between the two versions of the model as the variables are linearly dependent. However, the parameters that you get, and the p-values are fundamentally different.\n",
        "\n",
        "For completeness, let's fit the above a third time, but changing how treatment_idx is coded."
      ],
      "metadata": {
        "id": "kbnbCySGkXj3"
      }
    },
    {
      "cell_type": "code",
      "source": [
        "data1c = data1.copy()\n",
        "for ii in range(1,6):\n",
        "  if ii==1:\n",
        "    var = 'c'\n",
        "  else:\n",
        "    var = f't_{ii}'\n",
        "  data1c[var] = 0\n",
        "  data1c.loc[data1c.treatment_idx==ii, var] = 1\n",
        "\n",
        "data1c"
      ],
      "metadata": {
        "colab": {
          "base_uri": "https://localhost:8080/",
          "height": 424
        },
        "id": "8sDNPvCNhWhC",
        "outputId": "06f26166-1586-4a4b-a7b3-e7682bed85f7"
      },
      "execution_count": 13,
      "outputs": [
        {
          "output_type": "execute_result",
          "data": {
            "text/plain": [
              "           res  treatment_idx  midx  c  t_2  t_3  t_4  t_5\n",
              "0     1.632684              1     1  1    0    0    0    0\n",
              "1     0.969839              1     1  1    0    0    0    0\n",
              "2     0.518493              1     1  1    0    0    0    0\n",
              "3     0.303127              1     1  1    0    0    0    0\n",
              "4     0.581527              1     1  1    0    0    0    0\n",
              "...        ...            ...   ... ..  ...  ...  ...  ...\n",
              "1195  1.533250              5    24  0    0    0    0    1\n",
              "1196  0.533854              5    24  0    0    0    0    1\n",
              "1197  1.580074              5    24  0    0    0    0    1\n",
              "1198  2.586787              5    24  0    0    0    0    1\n",
              "1199  0.326548              5    24  0    0    0    0    1\n",
              "\n",
              "[1200 rows x 8 columns]"
            ],
            "text/html": [
              "\n",
              "  <div id=\"df-154bad10-63f9-4b97-a323-aaba9b3f3989\">\n",
              "    <div class=\"colab-df-container\">\n",
              "      <div>\n",
              "<style scoped>\n",
              "    .dataframe tbody tr th:only-of-type {\n",
              "        vertical-align: middle;\n",
              "    }\n",
              "\n",
              "    .dataframe tbody tr th {\n",
              "        vertical-align: top;\n",
              "    }\n",
              "\n",
              "    .dataframe thead th {\n",
              "        text-align: right;\n",
              "    }\n",
              "</style>\n",
              "<table border=\"1\" class=\"dataframe\">\n",
              "  <thead>\n",
              "    <tr style=\"text-align: right;\">\n",
              "      <th></th>\n",
              "      <th>res</th>\n",
              "      <th>treatment_idx</th>\n",
              "      <th>midx</th>\n",
              "      <th>c</th>\n",
              "      <th>t_2</th>\n",
              "      <th>t_3</th>\n",
              "      <th>t_4</th>\n",
              "      <th>t_5</th>\n",
              "    </tr>\n",
              "  </thead>\n",
              "  <tbody>\n",
              "    <tr>\n",
              "      <th>0</th>\n",
              "      <td>1.632684</td>\n",
              "      <td>1</td>\n",
              "      <td>1</td>\n",
              "      <td>1</td>\n",
              "      <td>0</td>\n",
              "      <td>0</td>\n",
              "      <td>0</td>\n",
              "      <td>0</td>\n",
              "    </tr>\n",
              "    <tr>\n",
              "      <th>1</th>\n",
              "      <td>0.969839</td>\n",
              "      <td>1</td>\n",
              "      <td>1</td>\n",
              "      <td>1</td>\n",
              "      <td>0</td>\n",
              "      <td>0</td>\n",
              "      <td>0</td>\n",
              "      <td>0</td>\n",
              "    </tr>\n",
              "    <tr>\n",
              "      <th>2</th>\n",
              "      <td>0.518493</td>\n",
              "      <td>1</td>\n",
              "      <td>1</td>\n",
              "      <td>1</td>\n",
              "      <td>0</td>\n",
              "      <td>0</td>\n",
              "      <td>0</td>\n",
              "      <td>0</td>\n",
              "    </tr>\n",
              "    <tr>\n",
              "      <th>3</th>\n",
              "      <td>0.303127</td>\n",
              "      <td>1</td>\n",
              "      <td>1</td>\n",
              "      <td>1</td>\n",
              "      <td>0</td>\n",
              "      <td>0</td>\n",
              "      <td>0</td>\n",
              "      <td>0</td>\n",
              "    </tr>\n",
              "    <tr>\n",
              "      <th>4</th>\n",
              "      <td>0.581527</td>\n",
              "      <td>1</td>\n",
              "      <td>1</td>\n",
              "      <td>1</td>\n",
              "      <td>0</td>\n",
              "      <td>0</td>\n",
              "      <td>0</td>\n",
              "      <td>0</td>\n",
              "    </tr>\n",
              "    <tr>\n",
              "      <th>...</th>\n",
              "      <td>...</td>\n",
              "      <td>...</td>\n",
              "      <td>...</td>\n",
              "      <td>...</td>\n",
              "      <td>...</td>\n",
              "      <td>...</td>\n",
              "      <td>...</td>\n",
              "      <td>...</td>\n",
              "    </tr>\n",
              "    <tr>\n",
              "      <th>1195</th>\n",
              "      <td>1.533250</td>\n",
              "      <td>5</td>\n",
              "      <td>24</td>\n",
              "      <td>0</td>\n",
              "      <td>0</td>\n",
              "      <td>0</td>\n",
              "      <td>0</td>\n",
              "      <td>1</td>\n",
              "    </tr>\n",
              "    <tr>\n",
              "      <th>1196</th>\n",
              "      <td>0.533854</td>\n",
              "      <td>5</td>\n",
              "      <td>24</td>\n",
              "      <td>0</td>\n",
              "      <td>0</td>\n",
              "      <td>0</td>\n",
              "      <td>0</td>\n",
              "      <td>1</td>\n",
              "    </tr>\n",
              "    <tr>\n",
              "      <th>1197</th>\n",
              "      <td>1.580074</td>\n",
              "      <td>5</td>\n",
              "      <td>24</td>\n",
              "      <td>0</td>\n",
              "      <td>0</td>\n",
              "      <td>0</td>\n",
              "      <td>0</td>\n",
              "      <td>1</td>\n",
              "    </tr>\n",
              "    <tr>\n",
              "      <th>1198</th>\n",
              "      <td>2.586787</td>\n",
              "      <td>5</td>\n",
              "      <td>24</td>\n",
              "      <td>0</td>\n",
              "      <td>0</td>\n",
              "      <td>0</td>\n",
              "      <td>0</td>\n",
              "      <td>1</td>\n",
              "    </tr>\n",
              "    <tr>\n",
              "      <th>1199</th>\n",
              "      <td>0.326548</td>\n",
              "      <td>5</td>\n",
              "      <td>24</td>\n",
              "      <td>0</td>\n",
              "      <td>0</td>\n",
              "      <td>0</td>\n",
              "      <td>0</td>\n",
              "      <td>1</td>\n",
              "    </tr>\n",
              "  </tbody>\n",
              "</table>\n",
              "<p>1200 rows × 8 columns</p>\n",
              "</div>\n",
              "      <button class=\"colab-df-convert\" onclick=\"convertToInteractive('df-154bad10-63f9-4b97-a323-aaba9b3f3989')\"\n",
              "              title=\"Convert this dataframe to an interactive table.\"\n",
              "              style=\"display:none;\">\n",
              "        \n",
              "  <svg xmlns=\"http://www.w3.org/2000/svg\" height=\"24px\"viewBox=\"0 0 24 24\"\n",
              "       width=\"24px\">\n",
              "    <path d=\"M0 0h24v24H0V0z\" fill=\"none\"/>\n",
              "    <path d=\"M18.56 5.44l.94 2.06.94-2.06 2.06-.94-2.06-.94-.94-2.06-.94 2.06-2.06.94zm-11 1L8.5 8.5l.94-2.06 2.06-.94-2.06-.94L8.5 2.5l-.94 2.06-2.06.94zm10 10l.94 2.06.94-2.06 2.06-.94-2.06-.94-.94-2.06-.94 2.06-2.06.94z\"/><path d=\"M17.41 7.96l-1.37-1.37c-.4-.4-.92-.59-1.43-.59-.52 0-1.04.2-1.43.59L10.3 9.45l-7.72 7.72c-.78.78-.78 2.05 0 2.83L4 21.41c.39.39.9.59 1.41.59.51 0 1.02-.2 1.41-.59l7.78-7.78 2.81-2.81c.8-.78.8-2.07 0-2.86zM5.41 20L4 18.59l7.72-7.72 1.47 1.35L5.41 20z\"/>\n",
              "  </svg>\n",
              "      </button>\n",
              "      \n",
              "  <style>\n",
              "    .colab-df-container {\n",
              "      display:flex;\n",
              "      flex-wrap:wrap;\n",
              "      gap: 12px;\n",
              "    }\n",
              "\n",
              "    .colab-df-convert {\n",
              "      background-color: #E8F0FE;\n",
              "      border: none;\n",
              "      border-radius: 50%;\n",
              "      cursor: pointer;\n",
              "      display: none;\n",
              "      fill: #1967D2;\n",
              "      height: 32px;\n",
              "      padding: 0 0 0 0;\n",
              "      width: 32px;\n",
              "    }\n",
              "\n",
              "    .colab-df-convert:hover {\n",
              "      background-color: #E2EBFA;\n",
              "      box-shadow: 0px 1px 2px rgba(60, 64, 67, 0.3), 0px 1px 3px 1px rgba(60, 64, 67, 0.15);\n",
              "      fill: #174EA6;\n",
              "    }\n",
              "\n",
              "    [theme=dark] .colab-df-convert {\n",
              "      background-color: #3B4455;\n",
              "      fill: #D2E3FC;\n",
              "    }\n",
              "\n",
              "    [theme=dark] .colab-df-convert:hover {\n",
              "      background-color: #434B5C;\n",
              "      box-shadow: 0px 1px 3px 1px rgba(0, 0, 0, 0.15);\n",
              "      filter: drop-shadow(0px 1px 2px rgba(0, 0, 0, 0.3));\n",
              "      fill: #FFFFFF;\n",
              "    }\n",
              "  </style>\n",
              "\n",
              "      <script>\n",
              "        const buttonEl =\n",
              "          document.querySelector('#df-154bad10-63f9-4b97-a323-aaba9b3f3989 button.colab-df-convert');\n",
              "        buttonEl.style.display =\n",
              "          google.colab.kernel.accessAllowed ? 'block' : 'none';\n",
              "\n",
              "        async function convertToInteractive(key) {\n",
              "          const element = document.querySelector('#df-154bad10-63f9-4b97-a323-aaba9b3f3989');\n",
              "          const dataTable =\n",
              "            await google.colab.kernel.invokeFunction('convertToInteractive',\n",
              "                                                     [key], {});\n",
              "          if (!dataTable) return;\n",
              "\n",
              "          const docLinkHtml = 'Like what you see? Visit the ' +\n",
              "            '<a target=\"_blank\" href=https://colab.research.google.com/notebooks/data_table.ipynb>data table notebook</a>'\n",
              "            + ' to learn more about interactive tables.';\n",
              "          element.innerHTML = '';\n",
              "          dataTable['output_type'] = 'display_data';\n",
              "          await google.colab.output.renderOutput(dataTable, element);\n",
              "          const docLink = document.createElement('div');\n",
              "          docLink.innerHTML = docLinkHtml;\n",
              "          element.appendChild(docLink);\n",
              "        }\n",
              "      </script>\n",
              "    </div>\n",
              "  </div>\n",
              "  "
            ]
          },
          "metadata": {},
          "execution_count": 13
        }
      ]
    },
    {
      "cell_type": "code",
      "source": [
        "m = smf.ols('res ~ -1 + c + t_2 + t_3 + t_4 + t_5', data=data1c).fit()\n",
        "m.summary()"
      ],
      "metadata": {
        "colab": {
          "base_uri": "https://localhost:8080/",
          "height": 516
        },
        "id": "0J0M7OLbl-0t",
        "outputId": "8b2fea78-c879-491d-a2de-db93a7f930ac"
      },
      "execution_count": 14,
      "outputs": [
        {
          "output_type": "execute_result",
          "data": {
            "text/plain": [
              "<class 'statsmodels.iolib.summary.Summary'>\n",
              "\"\"\"\n",
              "                            OLS Regression Results                            \n",
              "==============================================================================\n",
              "Dep. Variable:                    res   R-squared:                       0.266\n",
              "Model:                            OLS   Adj. R-squared:                  0.263\n",
              "Method:                 Least Squares   F-statistic:                     108.1\n",
              "Date:                Fri, 09 Sep 2022   Prob (F-statistic):           1.17e-78\n",
              "Time:                        18:41:46   Log-Likelihood:                -1363.4\n",
              "No. Observations:                1200   AIC:                             2737.\n",
              "Df Residuals:                    1195   BIC:                             2762.\n",
              "Df Model:                           4                                         \n",
              "Covariance Type:            nonrobust                                         \n",
              "==============================================================================\n",
              "                 coef    std err          t      P>|t|      [0.025      0.975]\n",
              "------------------------------------------------------------------------------\n",
              "c              1.0262      0.040     25.672      0.000       0.948       1.105\n",
              "t_2            1.8090      0.043     42.105      0.000       1.725       1.893\n",
              "t_3            1.8397      0.064     28.719      0.000       1.714       1.965\n",
              "t_4            1.1868      0.062     19.245      0.000       1.066       1.308\n",
              "t_5            0.6657      0.048     13.797      0.000       0.571       0.760\n",
              "==============================================================================\n",
              "Omnibus:                      297.522   Durbin-Watson:                   1.024\n",
              "Prob(Omnibus):                  0.000   Jarque-Bera (JB):              812.801\n",
              "Skew:                           1.272   Prob(JB):                    3.18e-177\n",
              "Kurtosis:                       6.128   Cond. No.                         1.60\n",
              "==============================================================================\n",
              "\n",
              "Notes:\n",
              "[1] Standard Errors assume that the covariance matrix of the errors is correctly specified.\n",
              "\"\"\""
            ],
            "text/html": [
              "<table class=\"simpletable\">\n",
              "<caption>OLS Regression Results</caption>\n",
              "<tr>\n",
              "  <th>Dep. Variable:</th>           <td>res</td>       <th>  R-squared:         </th> <td>   0.266</td>\n",
              "</tr>\n",
              "<tr>\n",
              "  <th>Model:</th>                   <td>OLS</td>       <th>  Adj. R-squared:    </th> <td>   0.263</td>\n",
              "</tr>\n",
              "<tr>\n",
              "  <th>Method:</th>             <td>Least Squares</td>  <th>  F-statistic:       </th> <td>   108.1</td>\n",
              "</tr>\n",
              "<tr>\n",
              "  <th>Date:</th>             <td>Fri, 09 Sep 2022</td> <th>  Prob (F-statistic):</th> <td>1.17e-78</td>\n",
              "</tr>\n",
              "<tr>\n",
              "  <th>Time:</th>                 <td>18:41:46</td>     <th>  Log-Likelihood:    </th> <td> -1363.4</td>\n",
              "</tr>\n",
              "<tr>\n",
              "  <th>No. Observations:</th>      <td>  1200</td>      <th>  AIC:               </th> <td>   2737.</td>\n",
              "</tr>\n",
              "<tr>\n",
              "  <th>Df Residuals:</th>          <td>  1195</td>      <th>  BIC:               </th> <td>   2762.</td>\n",
              "</tr>\n",
              "<tr>\n",
              "  <th>Df Model:</th>              <td>     4</td>      <th>                     </th>     <td> </td>   \n",
              "</tr>\n",
              "<tr>\n",
              "  <th>Covariance Type:</th>      <td>nonrobust</td>    <th>                     </th>     <td> </td>   \n",
              "</tr>\n",
              "</table>\n",
              "<table class=\"simpletable\">\n",
              "<tr>\n",
              "   <td></td>      <th>coef</th>     <th>std err</th>      <th>t</th>      <th>P>|t|</th>  <th>[0.025</th>    <th>0.975]</th>  \n",
              "</tr>\n",
              "<tr>\n",
              "  <th>c</th>   <td>    1.0262</td> <td>    0.040</td> <td>   25.672</td> <td> 0.000</td> <td>    0.948</td> <td>    1.105</td>\n",
              "</tr>\n",
              "<tr>\n",
              "  <th>t_2</th> <td>    1.8090</td> <td>    0.043</td> <td>   42.105</td> <td> 0.000</td> <td>    1.725</td> <td>    1.893</td>\n",
              "</tr>\n",
              "<tr>\n",
              "  <th>t_3</th> <td>    1.8397</td> <td>    0.064</td> <td>   28.719</td> <td> 0.000</td> <td>    1.714</td> <td>    1.965</td>\n",
              "</tr>\n",
              "<tr>\n",
              "  <th>t_4</th> <td>    1.1868</td> <td>    0.062</td> <td>   19.245</td> <td> 0.000</td> <td>    1.066</td> <td>    1.308</td>\n",
              "</tr>\n",
              "<tr>\n",
              "  <th>t_5</th> <td>    0.6657</td> <td>    0.048</td> <td>   13.797</td> <td> 0.000</td> <td>    0.571</td> <td>    0.760</td>\n",
              "</tr>\n",
              "</table>\n",
              "<table class=\"simpletable\">\n",
              "<tr>\n",
              "  <th>Omnibus:</th>       <td>297.522</td> <th>  Durbin-Watson:     </th> <td>   1.024</td> \n",
              "</tr>\n",
              "<tr>\n",
              "  <th>Prob(Omnibus):</th> <td> 0.000</td>  <th>  Jarque-Bera (JB):  </th> <td> 812.801</td> \n",
              "</tr>\n",
              "<tr>\n",
              "  <th>Skew:</th>          <td> 1.272</td>  <th>  Prob(JB):          </th> <td>3.18e-177</td>\n",
              "</tr>\n",
              "<tr>\n",
              "  <th>Kurtosis:</th>      <td> 6.128</td>  <th>  Cond. No.          </th> <td>    1.60</td> \n",
              "</tr>\n",
              "</table><br/><br/>Notes:<br/>[1] Standard Errors assume that the covariance matrix of the errors is correctly specified."
            ]
          },
          "metadata": {},
          "execution_count": 14
        }
      ]
    },
    {
      "cell_type": "markdown",
      "source": [
        "a completely equivalent result as above. Note that if we try to add back the intercept term, the fitting will either fail or produce incorrect values."
      ],
      "metadata": {
        "id": "Xu98IQCRms8J"
      }
    },
    {
      "cell_type": "code",
      "source": [
        "m = smf.ols('res ~ 1 + c + t_2 + t_3 + t_4 + t_5', data=data1c).fit()\n",
        "m.summary()"
      ],
      "metadata": {
        "colab": {
          "base_uri": "https://localhost:8080/",
          "height": 572
        },
        "id": "EDIDoAPzmsIK",
        "outputId": "5a140b1a-c2dc-4640-fbbe-8cf8f39946b7"
      },
      "execution_count": 15,
      "outputs": [
        {
          "output_type": "execute_result",
          "data": {
            "text/plain": [
              "<class 'statsmodels.iolib.summary.Summary'>\n",
              "\"\"\"\n",
              "                            OLS Regression Results                            \n",
              "==============================================================================\n",
              "Dep. Variable:                    res   R-squared:                       0.263\n",
              "Model:                            OLS   Adj. R-squared:                  0.260\n",
              "Method:                 Least Squares   F-statistic:                     106.3\n",
              "Date:                Fri, 09 Sep 2022   Prob (F-statistic):           1.53e-77\n",
              "Time:                        18:41:46   Log-Likelihood:                -1366.0\n",
              "No. Observations:                1200   AIC:                             2742.\n",
              "Df Residuals:                    1195   BIC:                             2767.\n",
              "Df Model:                           4                                         \n",
              "Covariance Type:            nonrobust                                         \n",
              "==============================================================================\n",
              "                 coef    std err          t      P>|t|      [0.025      0.975]\n",
              "------------------------------------------------------------------------------\n",
              "Intercept   -1.64e+12   7.91e+12     -0.207      0.836   -1.72e+13    1.39e+13\n",
              "c            1.64e+12   7.91e+12      0.207      0.836   -1.39e+13    1.72e+13\n",
              "t_2          1.64e+12   7.91e+12      0.207      0.836   -1.39e+13    1.72e+13\n",
              "t_3          1.64e+12   7.91e+12      0.207      0.836   -1.39e+13    1.72e+13\n",
              "t_4          1.64e+12   7.91e+12      0.207      0.836   -1.39e+13    1.72e+13\n",
              "t_5          1.64e+12   7.91e+12      0.207      0.836   -1.39e+13    1.72e+13\n",
              "==============================================================================\n",
              "Omnibus:                      304.125   Durbin-Watson:                   1.020\n",
              "Prob(Omnibus):                  0.000   Jarque-Bera (JB):              839.912\n",
              "Skew:                           1.296   Prob(JB):                    4.12e-183\n",
              "Kurtosis:                       6.175   Cond. No.                     9.84e+14\n",
              "==============================================================================\n",
              "\n",
              "Notes:\n",
              "[1] Standard Errors assume that the covariance matrix of the errors is correctly specified.\n",
              "[2] The smallest eigenvalue is 1.52e-27. This might indicate that there are\n",
              "strong multicollinearity problems or that the design matrix is singular.\n",
              "\"\"\""
            ],
            "text/html": [
              "<table class=\"simpletable\">\n",
              "<caption>OLS Regression Results</caption>\n",
              "<tr>\n",
              "  <th>Dep. Variable:</th>           <td>res</td>       <th>  R-squared:         </th> <td>   0.263</td>\n",
              "</tr>\n",
              "<tr>\n",
              "  <th>Model:</th>                   <td>OLS</td>       <th>  Adj. R-squared:    </th> <td>   0.260</td>\n",
              "</tr>\n",
              "<tr>\n",
              "  <th>Method:</th>             <td>Least Squares</td>  <th>  F-statistic:       </th> <td>   106.3</td>\n",
              "</tr>\n",
              "<tr>\n",
              "  <th>Date:</th>             <td>Fri, 09 Sep 2022</td> <th>  Prob (F-statistic):</th> <td>1.53e-77</td>\n",
              "</tr>\n",
              "<tr>\n",
              "  <th>Time:</th>                 <td>18:41:46</td>     <th>  Log-Likelihood:    </th> <td> -1366.0</td>\n",
              "</tr>\n",
              "<tr>\n",
              "  <th>No. Observations:</th>      <td>  1200</td>      <th>  AIC:               </th> <td>   2742.</td>\n",
              "</tr>\n",
              "<tr>\n",
              "  <th>Df Residuals:</th>          <td>  1195</td>      <th>  BIC:               </th> <td>   2767.</td>\n",
              "</tr>\n",
              "<tr>\n",
              "  <th>Df Model:</th>              <td>     4</td>      <th>                     </th>     <td> </td>   \n",
              "</tr>\n",
              "<tr>\n",
              "  <th>Covariance Type:</th>      <td>nonrobust</td>    <th>                     </th>     <td> </td>   \n",
              "</tr>\n",
              "</table>\n",
              "<table class=\"simpletable\">\n",
              "<tr>\n",
              "      <td></td>         <th>coef</th>     <th>std err</th>      <th>t</th>      <th>P>|t|</th>  <th>[0.025</th>    <th>0.975]</th>  \n",
              "</tr>\n",
              "<tr>\n",
              "  <th>Intercept</th> <td> -1.64e+12</td> <td> 7.91e+12</td> <td>   -0.207</td> <td> 0.836</td> <td>-1.72e+13</td> <td> 1.39e+13</td>\n",
              "</tr>\n",
              "<tr>\n",
              "  <th>c</th>         <td>  1.64e+12</td> <td> 7.91e+12</td> <td>    0.207</td> <td> 0.836</td> <td>-1.39e+13</td> <td> 1.72e+13</td>\n",
              "</tr>\n",
              "<tr>\n",
              "  <th>t_2</th>       <td>  1.64e+12</td> <td> 7.91e+12</td> <td>    0.207</td> <td> 0.836</td> <td>-1.39e+13</td> <td> 1.72e+13</td>\n",
              "</tr>\n",
              "<tr>\n",
              "  <th>t_3</th>       <td>  1.64e+12</td> <td> 7.91e+12</td> <td>    0.207</td> <td> 0.836</td> <td>-1.39e+13</td> <td> 1.72e+13</td>\n",
              "</tr>\n",
              "<tr>\n",
              "  <th>t_4</th>       <td>  1.64e+12</td> <td> 7.91e+12</td> <td>    0.207</td> <td> 0.836</td> <td>-1.39e+13</td> <td> 1.72e+13</td>\n",
              "</tr>\n",
              "<tr>\n",
              "  <th>t_5</th>       <td>  1.64e+12</td> <td> 7.91e+12</td> <td>    0.207</td> <td> 0.836</td> <td>-1.39e+13</td> <td> 1.72e+13</td>\n",
              "</tr>\n",
              "</table>\n",
              "<table class=\"simpletable\">\n",
              "<tr>\n",
              "  <th>Omnibus:</th>       <td>304.125</td> <th>  Durbin-Watson:     </th> <td>   1.020</td> \n",
              "</tr>\n",
              "<tr>\n",
              "  <th>Prob(Omnibus):</th> <td> 0.000</td>  <th>  Jarque-Bera (JB):  </th> <td> 839.912</td> \n",
              "</tr>\n",
              "<tr>\n",
              "  <th>Skew:</th>          <td> 1.296</td>  <th>  Prob(JB):          </th> <td>4.12e-183</td>\n",
              "</tr>\n",
              "<tr>\n",
              "  <th>Kurtosis:</th>      <td> 6.175</td>  <th>  Cond. No.          </th> <td>9.84e+14</td> \n",
              "</tr>\n",
              "</table><br/><br/>Notes:<br/>[1] Standard Errors assume that the covariance matrix of the errors is correctly specified.<br/>[2] The smallest eigenvalue is 1.52e-27. This might indicate that there are<br/>strong multicollinearity problems or that the design matrix is singular."
            ]
          },
          "metadata": {},
          "execution_count": 15
        }
      ]
    },
    {
      "cell_type": "markdown",
      "source": [
        "Let's do a bit of hypothesis testing. There are a number of ways to do this, including wald tests, post-hoc ttests, or likelihood ratio tests. I will cover wald tests here, and likelihood ratio tests when we get to LMM."
      ],
      "metadata": {
        "id": "K8D3jxuCnUVU"
      }
    },
    {
      "cell_type": "code",
      "source": [
        "m = smf.ols('res ~ 1 + C(treatment_idx)', data=data1).fit()\n",
        "m.summary()\n"
      ],
      "metadata": {
        "colab": {
          "base_uri": "https://localhost:8080/",
          "height": 516
        },
        "id": "c3Kwf2Y7mR9d",
        "outputId": "7a901423-a9f1-46e4-f014-24137d92b662"
      },
      "execution_count": 16,
      "outputs": [
        {
          "output_type": "execute_result",
          "data": {
            "text/plain": [
              "<class 'statsmodels.iolib.summary.Summary'>\n",
              "\"\"\"\n",
              "                            OLS Regression Results                            \n",
              "==============================================================================\n",
              "Dep. Variable:                    res   R-squared:                       0.266\n",
              "Model:                            OLS   Adj. R-squared:                  0.263\n",
              "Method:                 Least Squares   F-statistic:                     108.1\n",
              "Date:                Fri, 09 Sep 2022   Prob (F-statistic):           1.17e-78\n",
              "Time:                        18:41:46   Log-Likelihood:                -1363.4\n",
              "No. Observations:                1200   AIC:                             2737.\n",
              "Df Residuals:                    1195   BIC:                             2762.\n",
              "Df Model:                           4                                         \n",
              "Covariance Type:            nonrobust                                         \n",
              "=========================================================================================\n",
              "                            coef    std err          t      P>|t|      [0.025      0.975]\n",
              "-----------------------------------------------------------------------------------------\n",
              "Intercept                 1.0262      0.040     25.672      0.000       0.948       1.105\n",
              "C(treatment_idx)[T.2]     0.7829      0.059     13.340      0.000       0.668       0.898\n",
              "C(treatment_idx)[T.3]     0.8135      0.076     10.774      0.000       0.665       0.962\n",
              "C(treatment_idx)[T.4]     0.1606      0.073      2.185      0.029       0.016       0.305\n",
              "C(treatment_idx)[T.5]    -0.3605      0.063     -5.753      0.000      -0.483      -0.238\n",
              "==============================================================================\n",
              "Omnibus:                      297.522   Durbin-Watson:                   1.024\n",
              "Prob(Omnibus):                  0.000   Jarque-Bera (JB):              812.801\n",
              "Skew:                           1.272   Prob(JB):                    3.18e-177\n",
              "Kurtosis:                       6.128   Cond. No.                         5.07\n",
              "==============================================================================\n",
              "\n",
              "Notes:\n",
              "[1] Standard Errors assume that the covariance matrix of the errors is correctly specified.\n",
              "\"\"\""
            ],
            "text/html": [
              "<table class=\"simpletable\">\n",
              "<caption>OLS Regression Results</caption>\n",
              "<tr>\n",
              "  <th>Dep. Variable:</th>           <td>res</td>       <th>  R-squared:         </th> <td>   0.266</td>\n",
              "</tr>\n",
              "<tr>\n",
              "  <th>Model:</th>                   <td>OLS</td>       <th>  Adj. R-squared:    </th> <td>   0.263</td>\n",
              "</tr>\n",
              "<tr>\n",
              "  <th>Method:</th>             <td>Least Squares</td>  <th>  F-statistic:       </th> <td>   108.1</td>\n",
              "</tr>\n",
              "<tr>\n",
              "  <th>Date:</th>             <td>Fri, 09 Sep 2022</td> <th>  Prob (F-statistic):</th> <td>1.17e-78</td>\n",
              "</tr>\n",
              "<tr>\n",
              "  <th>Time:</th>                 <td>18:41:46</td>     <th>  Log-Likelihood:    </th> <td> -1363.4</td>\n",
              "</tr>\n",
              "<tr>\n",
              "  <th>No. Observations:</th>      <td>  1200</td>      <th>  AIC:               </th> <td>   2737.</td>\n",
              "</tr>\n",
              "<tr>\n",
              "  <th>Df Residuals:</th>          <td>  1195</td>      <th>  BIC:               </th> <td>   2762.</td>\n",
              "</tr>\n",
              "<tr>\n",
              "  <th>Df Model:</th>              <td>     4</td>      <th>                     </th>     <td> </td>   \n",
              "</tr>\n",
              "<tr>\n",
              "  <th>Covariance Type:</th>      <td>nonrobust</td>    <th>                     </th>     <td> </td>   \n",
              "</tr>\n",
              "</table>\n",
              "<table class=\"simpletable\">\n",
              "<tr>\n",
              "            <td></td>               <th>coef</th>     <th>std err</th>      <th>t</th>      <th>P>|t|</th>  <th>[0.025</th>    <th>0.975]</th>  \n",
              "</tr>\n",
              "<tr>\n",
              "  <th>Intercept</th>             <td>    1.0262</td> <td>    0.040</td> <td>   25.672</td> <td> 0.000</td> <td>    0.948</td> <td>    1.105</td>\n",
              "</tr>\n",
              "<tr>\n",
              "  <th>C(treatment_idx)[T.2]</th> <td>    0.7829</td> <td>    0.059</td> <td>   13.340</td> <td> 0.000</td> <td>    0.668</td> <td>    0.898</td>\n",
              "</tr>\n",
              "<tr>\n",
              "  <th>C(treatment_idx)[T.3]</th> <td>    0.8135</td> <td>    0.076</td> <td>   10.774</td> <td> 0.000</td> <td>    0.665</td> <td>    0.962</td>\n",
              "</tr>\n",
              "<tr>\n",
              "  <th>C(treatment_idx)[T.4]</th> <td>    0.1606</td> <td>    0.073</td> <td>    2.185</td> <td> 0.029</td> <td>    0.016</td> <td>    0.305</td>\n",
              "</tr>\n",
              "<tr>\n",
              "  <th>C(treatment_idx)[T.5]</th> <td>   -0.3605</td> <td>    0.063</td> <td>   -5.753</td> <td> 0.000</td> <td>   -0.483</td> <td>   -0.238</td>\n",
              "</tr>\n",
              "</table>\n",
              "<table class=\"simpletable\">\n",
              "<tr>\n",
              "  <th>Omnibus:</th>       <td>297.522</td> <th>  Durbin-Watson:     </th> <td>   1.024</td> \n",
              "</tr>\n",
              "<tr>\n",
              "  <th>Prob(Omnibus):</th> <td> 0.000</td>  <th>  Jarque-Bera (JB):  </th> <td> 812.801</td> \n",
              "</tr>\n",
              "<tr>\n",
              "  <th>Skew:</th>          <td> 1.272</td>  <th>  Prob(JB):          </th> <td>3.18e-177</td>\n",
              "</tr>\n",
              "<tr>\n",
              "  <th>Kurtosis:</th>      <td> 6.128</td>  <th>  Cond. No.          </th> <td>    5.07</td> \n",
              "</tr>\n",
              "</table><br/><br/>Notes:<br/>[1] Standard Errors assume that the covariance matrix of the errors is correctly specified."
            ]
          },
          "metadata": {},
          "execution_count": 16
        }
      ]
    },
    {
      "cell_type": "markdown",
      "source": [
        "let's test the joint hypothesis that the treatments elicit a different response than the control."
      ],
      "metadata": {
        "id": "QXaMFmyvnvs6"
      }
    },
    {
      "cell_type": "code",
      "source": [
        "print(m.wald_test_terms())"
      ],
      "metadata": {
        "colab": {
          "base_uri": "https://localhost:8080/"
        },
        "id": "opTeaCYwnuvc",
        "outputId": "253a66a5-46a0-44bc-b4bf-fe27c5c8568f"
      },
      "execution_count": 17,
      "outputs": [
        {
          "output_type": "stream",
          "name": "stdout",
          "text": [
            "                           F            P>F  df constraint  df denom\n",
            "Intercept         659.070235  4.064778e-116              1    1195.0\n",
            "C(treatment_idx)  108.089431   1.173920e-78              4    1195.0\n"
          ]
        }
      ]
    },
    {
      "cell_type": "markdown",
      "source": [
        "or, equivalently, this is the one-way ANOVA."
      ],
      "metadata": {
        "id": "yEC_SZftrJDt"
      }
    },
    {
      "cell_type": "code",
      "source": [
        "print(sm.stats.anova_lm(m))"
      ],
      "metadata": {
        "colab": {
          "base_uri": "https://localhost:8080/"
        },
        "id": "CnzSl82RoFlL",
        "outputId": "bed8de19-dd7f-4d93-e67b-a0ce95bb8c51"
      },
      "execution_count": 18,
      "outputs": [
        {
          "output_type": "stream",
          "name": "stdout",
          "text": [
            "                      df      sum_sq    mean_sq           F        PR(>F)\n",
            "C(treatment_idx)     4.0  246.624334  61.656084  108.089431  1.173920e-78\n",
            "Residual          1195.0  681.648698   0.570417         NaN           NaN\n"
          ]
        }
      ]
    },
    {
      "cell_type": "markdown",
      "source": [
        "if each term is fitted independently, you need to construct the joint hypothesis matrix."
      ],
      "metadata": {
        "id": "yGOB5cStpAac"
      }
    },
    {
      "cell_type": "code",
      "source": [
        "m = smf.ols('res ~ -1 + c + t_2 + t_3 + t_4 + t_5', data=data1c).fit()\n",
        "print(m.wald_test_terms())"
      ],
      "metadata": {
        "colab": {
          "base_uri": "https://localhost:8080/"
        },
        "id": "0xyg-knkojob",
        "outputId": "ed83a2d5-27b2-4cd0-bd36-862ebdd89b5c"
      },
      "execution_count": 19,
      "outputs": [
        {
          "output_type": "stream",
          "name": "stdout",
          "text": [
            "               F            P>F  df constraint  df denom\n",
            "c     659.070235  4.064778e-116              1    1195.0\n",
            "t_2  1772.823611  2.632537e-238              1    1195.0\n",
            "t_3   824.755641  2.335611e-138              1    1195.0\n",
            "t_4   370.366335   4.161638e-72              1    1195.0\n",
            "t_5   190.350240   2.737735e-40              1    1195.0\n"
          ]
        }
      ]
    },
    {
      "cell_type": "code",
      "source": [
        "A = np.eye(5)\n",
        "A[:,0]=-1\n",
        "A = A[1:,:]\n",
        "print(A)\n",
        "print(m.wald_test(A))"
      ],
      "metadata": {
        "colab": {
          "base_uri": "https://localhost:8080/"
        },
        "id": "9L8dvb84pws7",
        "outputId": "4985f2ed-f5e1-462d-e93e-9f848d292a00"
      },
      "execution_count": 20,
      "outputs": [
        {
          "output_type": "stream",
          "name": "stdout",
          "text": [
            "[[-1.  1.  0.  0.  0.]\n",
            " [-1.  0.  1.  0.  0.]\n",
            " [-1.  0.  0.  1.  0.]\n",
            " [-1.  0.  0.  0.  1.]]\n",
            "<F test: F=array([[108.08943106]]), p=1.1739200802091384e-78, df_denom=1.2e+03, df_num=4>\n"
          ]
        }
      ]
    },
    {
      "cell_type": "markdown",
      "source": [
        "## Linear Mixed Models\n",
        "\n",
        "A random intercept model can be expressed as:\n",
        "\n",
        "$Y = X β + Zu + ϵ$\n",
        "\n",
        "Where $Y,X,\\beta$ are as in the linear model case, and the new terms are:\n",
        "\n",
        "Clustering/grouping variable.\n",
        "$Z → N \\times Q \\ \\text{matrix}$\n",
        "\n",
        "where $Q$ are the number of groups, and\n",
        "\n",
        "$u \\rightarrow Q \\times 1 \\ \\text{vector}$ \n",
        "\n",
        "of random variables $\\mathcal{N}(0, Σ_{q})$.\n",
        "\n",
        "Another way to describe the above is:\n",
        "\n",
        "$y_i \\sim \\mathcal{N}(X_i\\beta, \\sigma^2 I_{q}+ τ^2_q J_{q})$\n",
        "\n",
        "Where $J$ is a qxq matrix of ones, and $\\tau$ represents the within subject variance. Note that within subject correlation is constant from measurement to measurement. "
      ],
      "metadata": {
        "id": "_AZLrdsXsm7S"
      }
    },
    {
      "cell_type": "markdown",
      "source": [
        "First, let's fill out the rest of table 2 by a LME on the pCreb data.\n",
        "\n",
        "we will be using the formula approach with the function \n",
        "\n",
        "``` \n",
        "smf.mixedlm \n",
        "```\n",
        "\n",
        "Note that to specify a clustering (grouping/subjects) variable you need to specify it as groups, `groups='midx'`. It will naturally infer that this is a categorical variable.\n",
        "\n",
        "Also, on the fitting stage we used `reml=True`, which tells statsmodels to fit using restricted maximum likelihood. The why is a longer topic, but basically subject level estimates of variance are biased otherwise. By using REML, the likelihood model thats fitted is correctly specified for the variance components and the estimates are unbiased. "
      ],
      "metadata": {
        "id": "CtZBLIl1wy62"
      }
    },
    {
      "cell_type": "code",
      "source": [
        "m = smf.mixedlm('res ~ 1 + C(treatment_idx)', groups='midx', data=data1).fit(reml=True)\n",
        "m.summary()"
      ],
      "metadata": {
        "colab": {
          "base_uri": "https://localhost:8080/",
          "height": 299
        },
        "id": "pWWBBqbArn73",
        "outputId": "ff072c4d-d0b1-4f6c-c6e6-3d74662b612f"
      },
      "execution_count": 21,
      "outputs": [
        {
          "output_type": "execute_result",
          "data": {
            "text/plain": [
              "<class 'statsmodels.iolib.summary2.Summary'>\n",
              "\"\"\"\n",
              "             Mixed Linear Model Regression Results\n",
              "================================================================\n",
              "Model:                MixedLM   Dependent Variable:   res       \n",
              "No. Observations:     1200      Method:               REML      \n",
              "No. Groups:           24        Scale:                0.3594    \n",
              "Min. group size:      42        Log-Likelihood:       -1132.2330\n",
              "Max. group size:      57        Converged:            Yes       \n",
              "Mean group size:      50.0                                      \n",
              "----------------------------------------------------------------\n",
              "                      Coef.  Std.Err.   z    P>|z| [0.025 0.975]\n",
              "----------------------------------------------------------------\n",
              "Intercept              1.001    0.196  5.096 0.000  0.616  1.386\n",
              "C(treatment_idx)[T.2]  0.819    0.289  2.835 0.005  0.253  1.386\n",
              "C(treatment_idx)[T.3]  0.843    0.359  2.349 0.019  0.140  1.546\n",
              "C(treatment_idx)[T.4]  0.190    0.359  0.529 0.597 -0.513  0.893\n",
              "C(treatment_idx)[T.5] -0.320    0.304 -1.051 0.293 -0.916  0.276\n",
              "midx Var               0.263    0.147                           \n",
              "================================================================\n",
              "\n",
              "\"\"\""
            ],
            "text/html": [
              "<table class=\"simpletable\">\n",
              "<tr>\n",
              "       <td>Model:</td>       <td>MixedLM</td> <td>Dependent Variable:</td>     <td>res</td>   \n",
              "</tr>\n",
              "<tr>\n",
              "  <td>No. Observations:</td>  <td>1200</td>         <td>Method:</td>          <td>REML</td>   \n",
              "</tr>\n",
              "<tr>\n",
              "     <td>No. Groups:</td>      <td>24</td>          <td>Scale:</td>          <td>0.3594</td>  \n",
              "</tr>\n",
              "<tr>\n",
              "  <td>Min. group size:</td>    <td>42</td>      <td>Log-Likelihood:</td>   <td>-1132.2330</td>\n",
              "</tr>\n",
              "<tr>\n",
              "  <td>Max. group size:</td>    <td>57</td>        <td>Converged:</td>          <td>Yes</td>   \n",
              "</tr>\n",
              "<tr>\n",
              "  <td>Mean group size:</td>   <td>50.0</td>            <td></td>                <td></td>     \n",
              "</tr>\n",
              "</table>\n",
              "<table class=\"simpletable\">\n",
              "<tr>\n",
              "            <td></td>             <th>Coef.</th> <th>Std.Err.</th>    <th>z</th>   <th>P>|z|</th> <th>[0.025</th> <th>0.975]</th>\n",
              "</tr>\n",
              "<tr>\n",
              "  <th>Intercept</th>              <td>1.001</td>   <td>0.196</td>   <td>5.096</td> <td>0.000</td>  <td>0.616</td>  <td>1.386</td>\n",
              "</tr>\n",
              "<tr>\n",
              "  <th>C(treatment_idx)[T.2]</th>  <td>0.819</td>   <td>0.289</td>   <td>2.835</td> <td>0.005</td>  <td>0.253</td>  <td>1.386</td>\n",
              "</tr>\n",
              "<tr>\n",
              "  <th>C(treatment_idx)[T.3]</th>  <td>0.843</td>   <td>0.359</td>   <td>2.349</td> <td>0.019</td>  <td>0.140</td>  <td>1.546</td>\n",
              "</tr>\n",
              "<tr>\n",
              "  <th>C(treatment_idx)[T.4]</th>  <td>0.190</td>   <td>0.359</td>   <td>0.529</td> <td>0.597</td> <td>-0.513</td>  <td>0.893</td>\n",
              "</tr>\n",
              "<tr>\n",
              "  <th>C(treatment_idx)[T.5]</th> <td>-0.320</td>   <td>0.304</td>  <td>-1.051</td> <td>0.293</td> <td>-0.916</td>  <td>0.276</td>\n",
              "</tr>\n",
              "<tr>\n",
              "  <th>midx Var</th>               <td>0.263</td>   <td>0.147</td>     <td></td>      <td></td>       <td></td>       <td></td>   \n",
              "</tr>\n",
              "</table>"
            ]
          },
          "metadata": {},
          "execution_count": 21
        }
      ]
    },
    {
      "cell_type": "code",
      "source": [
        "print(m.params)\n",
        "print(m.pvalues)\n",
        "\n",
        "print(m.wald_test_terms())"
      ],
      "metadata": {
        "colab": {
          "base_uri": "https://localhost:8080/"
        },
        "id": "npzjjMtarFBK",
        "outputId": "5ccde409-18d2-4022-afc1-61fc7281aa6b"
      },
      "execution_count": 22,
      "outputs": [
        {
          "output_type": "stream",
          "name": "stdout",
          "text": [
            "Intercept                1.000673\n",
            "C(treatment_idx)[T.2]    0.819449\n",
            "C(treatment_idx)[T.3]    0.842947\n",
            "C(treatment_idx)[T.4]    0.189843\n",
            "C(treatment_idx)[T.5]   -0.319988\n",
            "midx Var                 0.731319\n",
            "dtype: float64\n",
            "Intercept                3.475148e-07\n",
            "C(treatment_idx)[T.2]    4.580955e-03\n",
            "C(treatment_idx)[T.3]    1.882390e-02\n",
            "C(treatment_idx)[T.4]    5.965338e-01\n",
            "C(treatment_idx)[T.5]    2.930608e-01\n",
            "midx Var                 2.914396e-03\n",
            "dtype: float64\n",
            "                       chi2        P>chi2  df constraint\n",
            "Intercept         25.965826  3.475148e-07              1\n",
            "C(treatment_idx)  18.751395  8.794348e-04              4\n"
          ]
        }
      ]
    },
    {
      "cell_type": "markdown",
      "source": [
        "Note that the p-values are slightly different than in the paper, and that's a difference between the R packages and statsmodels (I believe statsmodels uses the z=coef/std, and then compares to a normal distrubution while R compares to a t distribution. The df are a bit messy on LME models, and for accurate df you need some additional calculations/tools.\n",
        "\n",
        "-----------------\n",
        "***Note the reml=False***. Why? In order to correctly do nested likelihood comparison (LRT; likelihood ratio test), The models need to be fitted using Maximum likelihood, not the REML. Again, longer topic, and I would need to study more to be able to explain it correctly :). \n",
        "\n",
        "-------------\n",
        "***LRT***\n",
        "\n",
        "\n",
        "Suppose you have a model with a set of $Θ$ parameters, and you want to test that inclusion of $\\theta \\in \\Theta$ leads to a better fit of the data than without it. In such a case, you need to fit a mode excluding $\\theta$, which we call the null/simple model $\\Theta_0$. With those two fits, we can then find the likelihoods for each model and compute the likelihood ratio:\n",
        "\n",
        "$\\lambda_{LR} = 2 (l(\\Theta) - l(\\Theta_0)) $\n",
        "\n",
        "It turns out that $\\lambda_{LR} \\sim \\mathcal{X}(p)$, that is, $\\lambda_{LR}$ is chi squared distrubtued with p being the difference in number of parameters between the models. This can be used to get a significance score, though the metric itself is quite intuitive (eg. \\lambda_{LR} =2, the full model is twice as likely as the null). \n",
        "\n",
        "Likelihood ratio tests:\n",
        "https://en.wikipedia.org/wiki/Likelihood-ratio_test\n",
        "\n",
        "\n",
        "-------------\n",
        "Now, let's do a likelihood ratio test to find the significance of the treatment. \n"
      ],
      "metadata": {
        "id": "fWOGfymP3vvD"
      }
    },
    {
      "cell_type": "code",
      "source": [
        "m_full = smf.mixedlm('res ~ 1 + C(treatment_idx)', groups='midx', data=data1).fit(reml=False)\n",
        "m_null = smf.mixedlm('res ~ 1', groups='midx', data=data1).fit(reml=False)\n",
        "\n",
        "LRT = 2*(m_full.llf-m_null.llf)\n",
        "pval = stats.chi2.sf(LRT,4)\n",
        "print(f\"LRT = {LRT:0.2f}; pval={pval:1.2e}\")"
      ],
      "metadata": {
        "colab": {
          "base_uri": "https://localhost:8080/"
        },
        "id": "0gcfcD133us5",
        "outputId": "e5dd4851-5406-4cee-89a6-bebe6ba2a107"
      },
      "execution_count": 23,
      "outputs": [
        {
          "output_type": "stream",
          "name": "stdout",
          "text": [
            "LRT = 16.48; pval=2.44e-03\n"
          ]
        }
      ]
    },
    {
      "cell_type": "markdown",
      "source": [
        "The above are the same as in R. "
      ],
      "metadata": {
        "id": "7oNxysJu6W0x"
      }
    },
    {
      "cell_type": "markdown",
      "source": [
        "Let's examine those random effects."
      ],
      "metadata": {
        "id": "mTWCFVTY8iME"
      }
    },
    {
      "cell_type": "code",
      "source": [
        "m = smf.mixedlm('res ~ 1 + C(treatment_idx)', groups='midx', data=data1).fit(reml=True)\n",
        "print(m.summary())\n",
        "print(m.random_effects)"
      ],
      "metadata": {
        "colab": {
          "base_uri": "https://localhost:8080/"
        },
        "id": "z7XTe5xv7mG0",
        "outputId": "ae4906b7-59c1-4f6b-a33c-8a2a26bb7f0b"
      },
      "execution_count": 24,
      "outputs": [
        {
          "output_type": "stream",
          "name": "stdout",
          "text": [
            "             Mixed Linear Model Regression Results\n",
            "================================================================\n",
            "Model:                MixedLM   Dependent Variable:   res       \n",
            "No. Observations:     1200      Method:               REML      \n",
            "No. Groups:           24        Scale:                0.3594    \n",
            "Min. group size:      42        Log-Likelihood:       -1132.2330\n",
            "Max. group size:      57        Converged:            Yes       \n",
            "Mean group size:      50.0                                      \n",
            "----------------------------------------------------------------\n",
            "                      Coef.  Std.Err.   z    P>|z| [0.025 0.975]\n",
            "----------------------------------------------------------------\n",
            "Intercept              1.001    0.196  5.096 0.000  0.616  1.386\n",
            "C(treatment_idx)[T.2]  0.819    0.289  2.835 0.005  0.253  1.386\n",
            "C(treatment_idx)[T.3]  0.843    0.359  2.349 0.019  0.140  1.546\n",
            "C(treatment_idx)[T.4]  0.190    0.359  0.529 0.597 -0.513  0.893\n",
            "C(treatment_idx)[T.5] -0.320    0.304 -1.051 0.293 -0.916  0.276\n",
            "midx Var               0.263    0.147                           \n",
            "================================================================\n",
            "\n",
            "{1: midx   -0.258725\n",
            "dtype: float64, 2: midx   -0.357437\n",
            "dtype: float64, 3: midx    0.957305\n",
            "dtype: float64, 4: midx   -0.187648\n",
            "dtype: float64, 5: midx   -0.455281\n",
            "dtype: float64, 6: midx   -0.161686\n",
            "dtype: float64, 7: midx    0.463472\n",
            "dtype: float64, 8: midx   -0.190073\n",
            "dtype: float64, 9: midx   -0.432978\n",
            "dtype: float64, 10: midx   -0.196583\n",
            "dtype: float64, 11: midx   -0.251713\n",
            "dtype: float64, 12: midx   -0.051864\n",
            "dtype: float64, 13: midx    1.123211\n",
            "dtype: float64, 14: midx    0.056632\n",
            "dtype: float64, 15: midx   -0.178025\n",
            "dtype: float64, 16: midx    0.121393\n",
            "dtype: float64, 17: midx    0.775834\n",
            "dtype: float64, 18: midx   -0.331721\n",
            "dtype: float64, 19: midx   -0.444113\n",
            "dtype: float64, 20: midx   -0.350806\n",
            "dtype: float64, 21: midx    0.160715\n",
            "dtype: float64, 22: midx    0.04529\n",
            "dtype: float64, 23: midx   -0.455022\n",
            "dtype: float64, 24: midx    0.599823\n",
            "dtype: float64}\n"
          ]
        }
      ]
    },
    {
      "cell_type": "code",
      "source": [
        "for ii in np.arange(1,8):\n",
        "  print(data1.loc[data1.midx==ii, 'res'].mean()-m.params[0])\n",
        "print()\n",
        "for ii in np.arange(8,14):\n",
        "  print(data1.loc[data1.midx==ii, 'res'].mean()-m.params[0]-m.params[1])"
      ],
      "metadata": {
        "colab": {
          "base_uri": "https://localhost:8080/"
        },
        "id": "n-Hi0yBE2ppH",
        "outputId": "9a62c811-2687-42bc-82fa-ede4415f7858"
      },
      "execution_count": 25,
      "outputs": [
        {
          "output_type": "stream",
          "name": "stdout",
          "text": [
            "-0.26540038124646403\n",
            "-0.36741137158146586\n",
            "0.9806800950001666\n",
            "-0.19258274579653645\n",
            "-0.46881446594703824\n",
            "-0.16638963740864776\n",
            "0.47520805313508707\n",
            "\n",
            "-0.19507099288153307\n",
            "-0.4439415396764046\n",
            "-0.2015605767134414\n",
            "-0.25903641272605005\n",
            "-0.05320243841854255\n",
            "1.1545550079426425\n"
          ]
        }
      ]
    },
    {
      "cell_type": "markdown",
      "source": [
        "similar to other parameters, the randome effects (intercepts) are simply the group means (note the difference between the first for loop and the second in estimating the means)"
      ],
      "metadata": {
        "id": "NHyyLklf9yHx"
      }
    },
    {
      "cell_type": "markdown",
      "source": [
        "### A nested example:\n",
        "For this one, we will load example 3 from the data in the paper. "
      ],
      "metadata": {
        "id": "kI3aPWSE_xj9"
      }
    },
    {
      "cell_type": "code",
      "source": [
        "data3 = pd.read_csv(\"https://www.ics.uci.edu/~zhaoxia/Data/BeyondTandANOVA/Example3.txt\")\n",
        "data3 = data3.dropna()\n",
        "data3.head()"
      ],
      "metadata": {
        "colab": {
          "base_uri": "https://localhost:8080/",
          "height": 206
        },
        "id": "iiKHEIzv9UIX",
        "outputId": "d4c40825-7106-4b4d-8308-73483c18527e"
      },
      "execution_count": 26,
      "outputs": [
        {
          "output_type": "execute_result",
          "data": {
            "text/plain": [
              "        res  treatment  midx  cidx\n",
              "0  6.336914          1     5     1\n",
              "1  6.306270          1     5     2\n",
              "2  6.303228          1     5     3\n",
              "3  6.293195          1     2     4\n",
              "4  6.281103          1     5     5"
            ],
            "text/html": [
              "\n",
              "  <div id=\"df-780585ff-1cb6-4e54-bf5a-15cc7305dd4f\">\n",
              "    <div class=\"colab-df-container\">\n",
              "      <div>\n",
              "<style scoped>\n",
              "    .dataframe tbody tr th:only-of-type {\n",
              "        vertical-align: middle;\n",
              "    }\n",
              "\n",
              "    .dataframe tbody tr th {\n",
              "        vertical-align: top;\n",
              "    }\n",
              "\n",
              "    .dataframe thead th {\n",
              "        text-align: right;\n",
              "    }\n",
              "</style>\n",
              "<table border=\"1\" class=\"dataframe\">\n",
              "  <thead>\n",
              "    <tr style=\"text-align: right;\">\n",
              "      <th></th>\n",
              "      <th>res</th>\n",
              "      <th>treatment</th>\n",
              "      <th>midx</th>\n",
              "      <th>cidx</th>\n",
              "    </tr>\n",
              "  </thead>\n",
              "  <tbody>\n",
              "    <tr>\n",
              "      <th>0</th>\n",
              "      <td>6.336914</td>\n",
              "      <td>1</td>\n",
              "      <td>5</td>\n",
              "      <td>1</td>\n",
              "    </tr>\n",
              "    <tr>\n",
              "      <th>1</th>\n",
              "      <td>6.306270</td>\n",
              "      <td>1</td>\n",
              "      <td>5</td>\n",
              "      <td>2</td>\n",
              "    </tr>\n",
              "    <tr>\n",
              "      <th>2</th>\n",
              "      <td>6.303228</td>\n",
              "      <td>1</td>\n",
              "      <td>5</td>\n",
              "      <td>3</td>\n",
              "    </tr>\n",
              "    <tr>\n",
              "      <th>3</th>\n",
              "      <td>6.293195</td>\n",
              "      <td>1</td>\n",
              "      <td>2</td>\n",
              "      <td>4</td>\n",
              "    </tr>\n",
              "    <tr>\n",
              "      <th>4</th>\n",
              "      <td>6.281103</td>\n",
              "      <td>1</td>\n",
              "      <td>5</td>\n",
              "      <td>5</td>\n",
              "    </tr>\n",
              "  </tbody>\n",
              "</table>\n",
              "</div>\n",
              "      <button class=\"colab-df-convert\" onclick=\"convertToInteractive('df-780585ff-1cb6-4e54-bf5a-15cc7305dd4f')\"\n",
              "              title=\"Convert this dataframe to an interactive table.\"\n",
              "              style=\"display:none;\">\n",
              "        \n",
              "  <svg xmlns=\"http://www.w3.org/2000/svg\" height=\"24px\"viewBox=\"0 0 24 24\"\n",
              "       width=\"24px\">\n",
              "    <path d=\"M0 0h24v24H0V0z\" fill=\"none\"/>\n",
              "    <path d=\"M18.56 5.44l.94 2.06.94-2.06 2.06-.94-2.06-.94-.94-2.06-.94 2.06-2.06.94zm-11 1L8.5 8.5l.94-2.06 2.06-.94-2.06-.94L8.5 2.5l-.94 2.06-2.06.94zm10 10l.94 2.06.94-2.06 2.06-.94-2.06-.94-.94-2.06-.94 2.06-2.06.94z\"/><path d=\"M17.41 7.96l-1.37-1.37c-.4-.4-.92-.59-1.43-.59-.52 0-1.04.2-1.43.59L10.3 9.45l-7.72 7.72c-.78.78-.78 2.05 0 2.83L4 21.41c.39.39.9.59 1.41.59.51 0 1.02-.2 1.41-.59l7.78-7.78 2.81-2.81c.8-.78.8-2.07 0-2.86zM5.41 20L4 18.59l7.72-7.72 1.47 1.35L5.41 20z\"/>\n",
              "  </svg>\n",
              "      </button>\n",
              "      \n",
              "  <style>\n",
              "    .colab-df-container {\n",
              "      display:flex;\n",
              "      flex-wrap:wrap;\n",
              "      gap: 12px;\n",
              "    }\n",
              "\n",
              "    .colab-df-convert {\n",
              "      background-color: #E8F0FE;\n",
              "      border: none;\n",
              "      border-radius: 50%;\n",
              "      cursor: pointer;\n",
              "      display: none;\n",
              "      fill: #1967D2;\n",
              "      height: 32px;\n",
              "      padding: 0 0 0 0;\n",
              "      width: 32px;\n",
              "    }\n",
              "\n",
              "    .colab-df-convert:hover {\n",
              "      background-color: #E2EBFA;\n",
              "      box-shadow: 0px 1px 2px rgba(60, 64, 67, 0.3), 0px 1px 3px 1px rgba(60, 64, 67, 0.15);\n",
              "      fill: #174EA6;\n",
              "    }\n",
              "\n",
              "    [theme=dark] .colab-df-convert {\n",
              "      background-color: #3B4455;\n",
              "      fill: #D2E3FC;\n",
              "    }\n",
              "\n",
              "    [theme=dark] .colab-df-convert:hover {\n",
              "      background-color: #434B5C;\n",
              "      box-shadow: 0px 1px 3px 1px rgba(0, 0, 0, 0.15);\n",
              "      filter: drop-shadow(0px 1px 2px rgba(0, 0, 0, 0.3));\n",
              "      fill: #FFFFFF;\n",
              "    }\n",
              "  </style>\n",
              "\n",
              "      <script>\n",
              "        const buttonEl =\n",
              "          document.querySelector('#df-780585ff-1cb6-4e54-bf5a-15cc7305dd4f button.colab-df-convert');\n",
              "        buttonEl.style.display =\n",
              "          google.colab.kernel.accessAllowed ? 'block' : 'none';\n",
              "\n",
              "        async function convertToInteractive(key) {\n",
              "          const element = document.querySelector('#df-780585ff-1cb6-4e54-bf5a-15cc7305dd4f');\n",
              "          const dataTable =\n",
              "            await google.colab.kernel.invokeFunction('convertToInteractive',\n",
              "                                                     [key], {});\n",
              "          if (!dataTable) return;\n",
              "\n",
              "          const docLinkHtml = 'Like what you see? Visit the ' +\n",
              "            '<a target=\"_blank\" href=https://colab.research.google.com/notebooks/data_table.ipynb>data table notebook</a>'\n",
              "            + ' to learn more about interactive tables.';\n",
              "          element.innerHTML = '';\n",
              "          dataTable['output_type'] = 'display_data';\n",
              "          await google.colab.output.renderOutput(dataTable, element);\n",
              "          const docLink = document.createElement('div');\n",
              "          docLink.innerHTML = docLinkHtml;\n",
              "          element.appendChild(docLink);\n",
              "        }\n",
              "      </script>\n",
              "    </div>\n",
              "  </div>\n",
              "  "
            ]
          },
          "metadata": {},
          "execution_count": 26
        }
      ]
    },
    {
      "cell_type": "markdown",
      "source": [
        "let's first fit the linear model"
      ],
      "metadata": {
        "id": "MFPohDcGAKQs"
      }
    },
    {
      "cell_type": "code",
      "source": [
        "%%time\n",
        "m = smf.ols('res ~ treatment', data=data3).fit()\n",
        "print(m.summary())\n",
        "print(m.wald_test_terms())\n"
      ],
      "metadata": {
        "colab": {
          "base_uri": "https://localhost:8080/"
        },
        "id": "bwz0YyVGAC-U",
        "outputId": "c0b49528-651f-4d4e-f347-80c7796804e3"
      },
      "execution_count": 27,
      "outputs": [
        {
          "output_type": "stream",
          "name": "stdout",
          "text": [
            "                            OLS Regression Results                            \n",
            "==============================================================================\n",
            "Dep. Variable:                    res   R-squared:                       0.003\n",
            "Model:                            OLS   Adj. R-squared:                  0.003\n",
            "Method:                 Least Squares   F-statistic:                     8.492\n",
            "Date:                Fri, 09 Sep 2022   Prob (F-statistic):            0.00360\n",
            "Time:                        18:41:49   Log-Likelihood:                -4863.1\n",
            "No. Observations:                2489   AIC:                             9730.\n",
            "Df Residuals:                    2487   BIC:                             9742.\n",
            "Df Model:                           1                                         \n",
            "Covariance Type:            nonrobust                                         \n",
            "==============================================================================\n",
            "                 coef    std err          t      P>|t|      [0.025      0.975]\n",
            "------------------------------------------------------------------------------\n",
            "Intercept      2.7321      0.108     25.258      0.000       2.520       2.944\n",
            "treatment      0.1995      0.068      2.914      0.004       0.065       0.334\n",
            "==============================================================================\n",
            "Omnibus:                      120.513   Durbin-Watson:                   0.952\n",
            "Prob(Omnibus):                  0.000   Jarque-Bera (JB):              137.529\n",
            "Skew:                           0.573   Prob(JB):                     1.37e-30\n",
            "Kurtosis:                       3.106   Cond. No.                         6.85\n",
            "==============================================================================\n",
            "\n",
            "Notes:\n",
            "[1] Standard Errors assume that the covariance matrix of the errors is correctly specified.\n",
            "                    F            P>F  df constraint  df denom\n",
            "Intercept  637.954672  1.710323e-125              1    2487.0\n",
            "treatment    8.491607   3.599734e-03              1    2487.0\n",
            "CPU times: user 26.4 ms, sys: 927 µs, total: 27.3 ms\n",
            "Wall time: 34.9 ms\n"
          ]
        }
      ]
    },
    {
      "cell_type": "markdown",
      "source": [
        "Now lets do the mixed model with the grouping variable for mouse, note that we are not including cell idx in this one."
      ],
      "metadata": {
        "id": "G-4FRAzlC1Vp"
      }
    },
    {
      "cell_type": "code",
      "source": [
        "m = smf.mixedlm('res ~ treatment', groups='midx', data=data3).fit()\n",
        "print(m.summary())\n",
        "print(m.wald_test_terms())"
      ],
      "metadata": {
        "colab": {
          "base_uri": "https://localhost:8080/"
        },
        "id": "ZlfJGTj3CGW0",
        "outputId": "7f630e0b-2a60-44d9-9a5e-f720b2df80c4"
      },
      "execution_count": 28,
      "outputs": [
        {
          "output_type": "stream",
          "name": "stderr",
          "text": [
            "/usr/local/lib/python3.7/dist-packages/statsmodels/base/model.py:568: ConvergenceWarning: Maximum Likelihood optimization failed to converge. Check mle_retvals\n",
            "  ConvergenceWarning)\n",
            "/usr/local/lib/python3.7/dist-packages/statsmodels/regression/mixed_linear_model.py:2202: ConvergenceWarning: Retrying MixedLM optimization with lbfgs\n",
            "  ConvergenceWarning)\n",
            "/usr/local/lib/python3.7/dist-packages/statsmodels/base/model.py:568: ConvergenceWarning: Maximum Likelihood optimization failed to converge. Check mle_retvals\n",
            "  ConvergenceWarning)\n",
            "/usr/local/lib/python3.7/dist-packages/statsmodels/regression/mixed_linear_model.py:2202: ConvergenceWarning: Retrying MixedLM optimization with cg\n",
            "  ConvergenceWarning)\n"
          ]
        },
        {
          "output_type": "stream",
          "name": "stdout",
          "text": [
            "         Mixed Linear Model Regression Results\n",
            "========================================================\n",
            "Model:            MixedLM Dependent Variable: res       \n",
            "No. Observations: 2489    Method:             REML      \n",
            "No. Groups:       11      Scale:              2.7562    \n",
            "Min. group size:  76      Log-Likelihood:     -4810.2578\n",
            "Max. group size:  492     Converged:          No        \n",
            "Mean group size:  226.3                                 \n",
            "---------------------------------------------------------\n",
            "           Coef.  Std.Err.    z     P>|z|  [0.025  0.975]\n",
            "---------------------------------------------------------\n",
            "Intercept  2.796     0.169  16.564  0.000   2.465   3.127\n",
            "treatment  0.198     0.067   2.973  0.003   0.067   0.328\n",
            "midx Var   0.189     0.055                               \n",
            "========================================================\n",
            "\n",
            "                 chi2        P>chi2  df constraint\n",
            "Intercept  274.349820  1.279123e-61              1\n",
            "treatment    8.840212  2.946649e-03              1\n"
          ]
        },
        {
          "output_type": "stream",
          "name": "stderr",
          "text": [
            "/usr/local/lib/python3.7/dist-packages/statsmodels/base/model.py:568: ConvergenceWarning: Maximum Likelihood optimization failed to converge. Check mle_retvals\n",
            "  ConvergenceWarning)\n",
            "/usr/local/lib/python3.7/dist-packages/statsmodels/regression/mixed_linear_model.py:2206: ConvergenceWarning: MixedLM optimization failed, trying a different optimizer may help.\n",
            "  warnings.warn(msg, ConvergenceWarning)\n",
            "/usr/local/lib/python3.7/dist-packages/statsmodels/regression/mixed_linear_model.py:2218: ConvergenceWarning: Gradient optimization failed, |grad| = 0.179060\n",
            "  warnings.warn(msg, ConvergenceWarning)\n"
          ]
        }
      ]
    },
    {
      "cell_type": "markdown",
      "source": [
        "now to add the additional by cell part:"
      ],
      "metadata": {
        "id": "06P4jcPdD764"
      }
    },
    {
      "cell_type": "code",
      "source": [
        "vc = {'cells':'0+C(cidx)'}\n",
        "m = smf.mixedlm('res ~ treatment', groups='midx',re_formula='1', vc_formula=vc, data=data3).fit()\n",
        "print(m.summary())\n",
        "print(m.wald_test_terms())"
      ],
      "metadata": {
        "colab": {
          "base_uri": "https://localhost:8080/"
        },
        "id": "1edP8HLqD3tT",
        "outputId": "442d3955-c253-41c8-91b5-63c38fbfe0c6"
      },
      "execution_count": 29,
      "outputs": [
        {
          "output_type": "stream",
          "name": "stdout",
          "text": [
            "         Mixed Linear Model Regression Results\n",
            "========================================================\n",
            "Model:            MixedLM Dependent Variable: res       \n",
            "No. Observations: 2489    Method:             REML      \n",
            "No. Groups:       11      Scale:              1.5883    \n",
            "Min. group size:  76      Log-Likelihood:     -4687.4155\n",
            "Max. group size:  492     Converged:          Yes       \n",
            "Mean group size:  226.3                                 \n",
            "---------------------------------------------------------\n",
            "           Coef.  Std.Err.    z     P>|z|  [0.025  0.975]\n",
            "---------------------------------------------------------\n",
            "Intercept  2.799     0.156  17.974  0.000   2.494   3.104\n",
            "treatment  0.193     0.051   3.827  0.000   0.094   0.293\n",
            "midx Var   0.182     0.073                               \n",
            "cells Var  1.173     0.089                               \n",
            "========================================================\n",
            "\n",
            "                 chi2        P>chi2  df constraint\n",
            "Intercept  323.076018  3.096618e-72              1\n",
            "treatment   14.646587  1.296692e-04              1\n"
          ]
        }
      ]
    },
    {
      "cell_type": "code",
      "source": [
        "print(m.params)\n",
        "print(m.pvalues)"
      ],
      "metadata": {
        "colab": {
          "base_uri": "https://localhost:8080/"
        },
        "id": "Q8F0tAn3GIi1",
        "outputId": "f5a9051f-9eb6-4bc9-b7ce-9360f6b840c8"
      },
      "execution_count": 30,
      "outputs": [
        {
          "output_type": "stream",
          "name": "stdout",
          "text": [
            "Intercept    2.799080\n",
            "treatment    0.193472\n",
            "midx Var     0.114764\n",
            "cells Var    0.738625\n",
            "dtype: float64\n",
            "Intercept    3.096618e-72\n",
            "treatment    1.296692e-04\n",
            "midx Var     4.648923e-02\n",
            "cells Var    1.150218e-25\n",
            "dtype: float64\n"
          ]
        }
      ]
    },
    {
      "cell_type": "code",
      "source": [
        "m.random_effects[1]"
      ],
      "metadata": {
        "colab": {
          "base_uri": "https://localhost:8080/"
        },
        "id": "K4SB3P2YDCPz",
        "outputId": "143a37af-da2a-42c7-a49f-7830d85ca7d2"
      },
      "execution_count": 31,
      "outputs": [
        {
          "output_type": "execute_result",
          "data": {
            "text/plain": [
              "midx                   -0.486156\n",
              "cells[C(cidx)[46]]      1.503783\n",
              "cells[C(cidx)[74]]      1.380281\n",
              "cells[C(cidx)[86]]      0.709829\n",
              "cells[C(cidx)[98]]      2.514744\n",
              "                          ...   \n",
              "cells[C(cidx)[1240]]   -1.361284\n",
              "cells[C(cidx)[1242]]   -1.339454\n",
              "cells[C(cidx)[1246]]   -1.523111\n",
              "cells[C(cidx)[1247]]   -1.552317\n",
              "cells[C(cidx)[1248]]   -1.552317\n",
              "Length: 249, dtype: float64"
            ]
          },
          "metadata": {},
          "execution_count": 31
        }
      ]
    },
    {
      "cell_type": "code",
      "source": [
        "sns.heatmap(m.random_effects_cov[2], robust=True)"
      ],
      "metadata": {
        "colab": {
          "base_uri": "https://localhost:8080/",
          "height": 376
        },
        "id": "z4AAx2s-HHWQ",
        "outputId": "40d887fe-6287-49f8-8817-cc409b33e01e"
      },
      "execution_count": 32,
      "outputs": [
        {
          "output_type": "execute_result",
          "data": {
            "text/plain": [
              "<matplotlib.axes._subplots.AxesSubplot at 0x7f789e6ec390>"
            ]
          },
          "metadata": {},
          "execution_count": 32
        },
        {
          "output_type": "display_data",
          "data": {
            "text/plain": [
              "<Figure size 432x288 with 2 Axes>"
            ],
            "image/png": "[encoded data removed]"
          },
          "metadata": {}
        }
      ]
    },
    {
      "cell_type": "markdown",
      "source": [
        "random slope model"
      ],
      "metadata": {
        "id": "00BnrFHpGfgZ"
      }
    },
    {
      "cell_type": "code",
      "source": [
        "vc = {'cells':'0+C(cidx)'}\n",
        "m = smf.mixedlm('res ~ treatment', groups='midx',re_formula='~1+treatment', vc_formula=vc, data=data3).fit()\n",
        "print(m.summary())\n",
        "print(m.wald_test_terms())\n",
        "\n"
      ],
      "metadata": {
        "colab": {
          "base_uri": "https://localhost:8080/"
        },
        "id": "9gX_n7GJDOTW",
        "outputId": "57377f60-7644-4141-d6bd-4f02026ccb2f"
      },
      "execution_count": 33,
      "outputs": [
        {
          "output_type": "stream",
          "name": "stdout",
          "text": [
            "             Mixed Linear Model Regression Results\n",
            "===============================================================\n",
            "Model:               MixedLM   Dependent Variable:   res       \n",
            "No. Observations:    2489      Method:               REML      \n",
            "No. Groups:          11        Scale:                1.5778    \n",
            "Min. group size:     76        Log-Likelihood:       -4685.7672\n",
            "Max. group size:     492       Converged:            Yes       \n",
            "Mean group size:     226.3                                     \n",
            "---------------------------------------------------------------\n",
            "                     Coef.  Std.Err.   z    P>|z| [0.025 0.975]\n",
            "---------------------------------------------------------------\n",
            "Intercept             2.825    0.199 14.210 0.000  2.435  3.214\n",
            "treatment             0.178    0.071  2.491 0.013  0.038  0.317\n",
            "midx Var              0.342    0.158                           \n",
            "midx x treatment Cov -0.072    0.051                           \n",
            "treatment Var         0.025    0.020                           \n",
            "cells Var             1.178    0.089                           \n",
            "===============================================================\n",
            "\n",
            "                 chi2        P>chi2  df constraint\n",
            "Intercept  201.933627  7.904623e-46              1\n",
            "treatment    6.205264  1.273709e-02              1\n"
          ]
        }
      ]
    },
    {
      "cell_type": "code",
      "source": [
        "sns.heatmap(m.random_effects_cov[1], robust=True)"
      ],
      "metadata": {
        "colab": {
          "base_uri": "https://localhost:8080/",
          "height": 376
        },
        "id": "TNE09ivCGn_y",
        "outputId": "0d6df8c8-4221-4440-dc27-2ebba37947c1"
      },
      "execution_count": 34,
      "outputs": [
        {
          "output_type": "execute_result",
          "data": {
            "text/plain": [
              "<matplotlib.axes._subplots.AxesSubplot at 0x7f789e649750>"
            ]
          },
          "metadata": {},
          "execution_count": 34
        },
        {
          "output_type": "display_data",
          "data": {
            "text/plain": [
              "<Figure size 432x288 with 2 Axes>"
            ],
            "image/png": "[encoded data removed]"
          },
          "metadata": {}
        }
      ]
    },
    {
      "cell_type": "code",
      "source": [],
      "metadata": {
        "id": "5lef3jhKGuLf"
      },
      "execution_count": 34,
      "outputs": []
    }
  ]
}
